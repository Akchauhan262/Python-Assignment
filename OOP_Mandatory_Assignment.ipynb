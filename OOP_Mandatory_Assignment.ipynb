{
  "cells": [
    {
      "cell_type": "markdown",
      "id": "e9977157",
      "metadata": {
        "id": "e9977157"
      },
      "source": [
        "# Object-Oriented Programming (OOP) - Practice Assignment\n",
        "\n",
        "This assignment will help you understand the basics of Object-Oriented Programming (OOP) in Python.  \n",
        "Each question is written in a simple way so that you know exactly what to do.\n",
        "\n",
        "**Structure:**\n",
        "- 6 Easy Questions  \n",
        "- 2 Medium Questions  \n",
        "- 2 Hard Questions\n",
        "\n",
        "Follow each question carefully and try to run the examples step by step.\n"
      ]
    },
    {
      "cell_type": "markdown",
      "id": "522a3c58",
      "metadata": {
        "id": "522a3c58"
      },
      "source": [
        "### Question 1 (Easy)\n",
        "**Create a Class and Object**\n",
        "\n",
        "Create a class named `Student` with one attribute `name`.  \n",
        "Then create an object of this class and print the student's name.\n",
        "\n",
        "*Hint:* Use the `__init__` method to initialize the name attribute."
      ]
    },
    {
      "cell_type": "code",
      "execution_count": null,
      "id": "eoxW1xeIzyDT",
      "metadata": {
        "id": "eoxW1xeIzyDT"
      },
      "outputs": [
        {
          "data": {
            "text/plain": [
              "\"Student's name: Akash\""
            ]
          },
          "execution_count": 3,
          "metadata": {},
          "output_type": "execute_result"
        }
      ],
      "source": [
        "#answer here\n",
        "class Student:\n",
        "    def __init__(self, name):\n",
        "        self.name = name\n",
        "\n",
        "    def display(self):\n",
        "        return f\"Student's name: {self.name}\"\n",
        "        \n",
        "# creation of object class Student\n",
        "student1 = Student(\"Akash\")\n",
        "student1.display()        "
      ]
    },
    {
      "cell_type": "markdown",
      "id": "62eb0fc1",
      "metadata": {
        "id": "62eb0fc1"
      },
      "source": [
        "### Question 2 (Easy)\n",
        "**Add Multiple Attributes**\n",
        "\n",
        "Create a class `Car` that has two attributes: `brand` and `year`.  \n",
        "Create two objects of this class for two different cars and print their details using `print()`."
      ]
    },
    {
      "cell_type": "code",
      "execution_count": null,
      "id": "aDLB9Ourz1fb",
      "metadata": {
        "id": "aDLB9Ourz1fb"
      },
      "outputs": [
        {
          "data": {
            "text/plain": [
              "'Brand: BMW, year: 2020 '"
            ]
          },
          "execution_count": 6,
          "metadata": {},
          "output_type": "execute_result"
        }
      ],
      "source": [
        "#answer here\n",
        "class Car:\n",
        "    def __init__(self, brand, year):\n",
        "        self.brand = brand\n",
        "        self.year = year\n",
        "\n",
        "    def display_details(self):\n",
        "        return f\"Brand: {self.brand}, year: {self.year} \"\n",
        "\n",
        "bmw = Car(\"BMW\", 2020)\n",
        "ford = Car(\"Mustang\", 2020)\n",
        "\n",
        "bmw.display_details()\n",
        "ford.display_details()"
      ]
    },
    {
      "cell_type": "markdown",
      "id": "009120a2",
      "metadata": {
        "id": "009120a2"
      },
      "source": [
        "### Question 3 (Easy)\n",
        "**Methods in a Class**\n",
        "\n",
        "Create a class `Circle` with one attribute `radius`.  \n",
        "Add a method `area()` that returns the area of the circle.\n",
        "\n",
        "*Formula:* Area = π × radius²"
      ]
    },
    {
      "cell_type": "code",
      "execution_count": 15,
      "id": "yNLySqc9z2PO",
      "metadata": {
        "id": "yNLySqc9z2PO"
      },
      "outputs": [
        {
          "data": {
            "text/plain": [
              "'Area of Circle having radius 4 is 50.24'"
            ]
          },
          "execution_count": 15,
          "metadata": {},
          "output_type": "execute_result"
        }
      ],
      "source": [
        "#answer here\n",
        "class Circle:\n",
        "    def __init__(self, radius):\n",
        "        self.radius = radius\n",
        "\n",
        "    def area(self,radius):\n",
        "        # res = 3.14 * (self.radius**2)\n",
        "        return f\"Area of Circle having radius {self.radius} is {3.14 * (self.radius**2)}\"\n",
        "\n",
        "circle = Circle(4)\n",
        "circle.area(4)        "
      ]
    },
    {
      "cell_type": "markdown",
      "id": "0b760f6d",
      "metadata": {
        "id": "0b760f6d"
      },
      "source": [
        "### Question 4 (Easy)\n",
        "**Default and Parameterized Constructor**\n",
        "\n",
        "Create a class `Book` that takes the book title and author name as parameters when creating an object.  \n",
        "Also, create one object without any arguments and set default values like `'Unknown Title'` and `'Unknown Author'`."
      ]
    },
    {
      "cell_type": "code",
      "execution_count": 17,
      "id": "pbYx_DZDz2xR",
      "metadata": {
        "id": "pbYx_DZDz2xR"
      },
      "outputs": [
        {
          "name": "stdout",
          "output_type": "stream",
          "text": [
            "Title: Atomic Habits, Author: James Clear\n",
            "Title: Unknown Title, Author: Unknown Author\n"
          ]
        }
      ],
      "source": [
        "#answer here\n",
        "class Book:\n",
        "    def __init__(self,title=\"Unknown Title\",author=\"Unknown Author\"):\n",
        "        self.title = title\n",
        "        self.author = author\n",
        "\n",
        "    def display(self):\n",
        "        print(f\"Title: {self.title}, Author: {self.author}\")\n",
        "\n",
        "book1 = Book(\"Atomic Habits\", \"James Clear\")\n",
        "book2 = Book()\n",
        "book1.display()\n",
        "book2.display()          "
      ]
    },
    {
      "cell_type": "markdown",
      "id": "67ac94fd",
      "metadata": {
        "id": "67ac94fd"
      },
      "source": [
        "### Question 5 (Easy)\n",
        "**Use of Self Keyword**\n",
        "\n",
        "Create a class `Employee` that has a method `display()` which prints `'This is an Employee class'`.  \n",
        "Then create one object and call the method using that object."
      ]
    },
    {
      "cell_type": "code",
      "execution_count": 18,
      "id": "8JXQn5LCz3Qp",
      "metadata": {
        "id": "8JXQn5LCz3Qp"
      },
      "outputs": [
        {
          "name": "stdout",
          "output_type": "stream",
          "text": [
            "This is an Employee class\n"
          ]
        }
      ],
      "source": [
        "#answer here\n",
        "class Employee:\n",
        "    def __init__(self):\n",
        "        pass\n",
        "\n",
        "    def display(self):\n",
        "        print(\"This is an Employee class\")\n",
        "\n",
        "emp = Employee()\n",
        "emp.display()        "
      ]
    },
    {
      "cell_type": "markdown",
      "id": "dce22c96",
      "metadata": {
        "id": "dce22c96"
      },
      "source": [
        "### Question 6 (Easy)\n",
        "**Simple Calculator Class**\n",
        "\n",
        "Create a class `Calculator` with methods for addition, subtraction, multiplication, and division.  \n",
        "Each method should take two numbers as parameters and return the result."
      ]
    },
    {
      "cell_type": "code",
      "execution_count": 3,
      "id": "WeDQIvebz3uF",
      "metadata": {
        "id": "WeDQIvebz3uF"
      },
      "outputs": [
        {
          "data": {
            "text/plain": [
              "'Sum: 15'"
            ]
          },
          "execution_count": 3,
          "metadata": {},
          "output_type": "execute_result"
        }
      ],
      "source": [
        "#answer here\n",
        "class Calculator:\n",
        "    def __init__(self,num1,num2):\n",
        "        self.num1 = num1\n",
        "        self.num2 = num2\n",
        "\n",
        "    def addition(self):\n",
        "        return f\"Sum: {self.num1+self.num2}\"\n",
        "    def subtraction(self):\n",
        "        return f\"Subtract: {self.num1-self.num2}\"\n",
        "    def multiplication(self):\n",
        "        return f\"Product: {self.num1 * self.num2}\"\n",
        "    def division(self):\n",
        "        return f\"Divide: {self.num1 / self.num2}\"\n",
        "    \n",
        "obj = Calculator(10,5)\n",
        "obj.addition()\n",
        "# obj.subtraction()\n",
        "# obj.multiplication()\n",
        "# obj.division()\n"
      ]
    },
    {
      "cell_type": "markdown",
      "id": "d5f60974",
      "metadata": {
        "id": "d5f60974"
      },
      "source": [
        "### Question 7 (Medium)\n",
        "**Working with Multiple Objects**\n",
        "\n",
        "Create a class `Student` with attributes `name`, `marks1`, `marks2`, and `marks3`.  \n",
        "Add a method `average()` that returns the average marks of the student.  \n",
        "Create objects for three students and print their average marks."
      ]
    },
    {
      "cell_type": "code",
      "execution_count": 4,
      "id": "un7JLb6dz4MD",
      "metadata": {
        "id": "un7JLb6dz4MD"
      },
      "outputs": [
        {
          "name": "stdout",
          "output_type": "stream",
          "text": [
            "Akash's average marks: 85.00\n",
            "Ritu's average marks: 83.33\n",
            "Karan's average marks: 92.00\n"
          ]
        }
      ],
      "source": [
        "#answer here\n",
        "class Student:\n",
        "    def __init__(self, name, marks1, marks2, marks3):\n",
        "        self.name = name\n",
        "        self.marks1 = marks1\n",
        "        self.marks2 = marks2\n",
        "        self.marks3 = marks3\n",
        "\n",
        "    def average(self):\n",
        "        return (self.marks1 + self.marks2 + self.marks3) / 3\n",
        "\n",
        "\n",
        "s1 = Student(\"Akash\", 85, 90, 80)\n",
        "s2 = Student(\"Ritu\", 78, 88, 84)\n",
        "s3 = Student(\"Karan\", 92, 95, 89)\n",
        "\n",
        "\n",
        "print(f\"{s1.name}'s average marks: {s1.average():.2f}\")\n",
        "print(f\"{s2.name}'s average marks: {s2.average():.2f}\")\n",
        "print(f\"{s3.name}'s average marks: {s3.average():.2f}\")\n",
        "  "
      ]
    },
    {
      "cell_type": "markdown",
      "id": "6047ad11",
      "metadata": {
        "id": "6047ad11"
      },
      "source": [
        "### Question 8 (Medium)\n",
        "**Inheritance Concept**\n",
        "\n",
        "Create a base class `Person` with an attribute `name` and a method `show_name()`.  \n",
        "Then create a derived class `Teacher` that adds a new attribute `subject` and a method `show_subject()`.  \n",
        "Create an object of `Teacher` and call both methods."
      ]
    },
    {
      "cell_type": "code",
      "execution_count": 5,
      "id": "3RF85lsjz4sT",
      "metadata": {
        "id": "3RF85lsjz4sT"
      },
      "outputs": [
        {
          "name": "stdout",
          "output_type": "stream",
          "text": [
            "Name: Akash\n",
            "Subject: Mathematics\n"
          ]
        }
      ],
      "source": [
        "#answer here\n",
        "class Person:\n",
        "    def __init__(self,name):\n",
        "        self.name = name\n",
        "\n",
        "    def show_name(self):\n",
        "        print(f\"Name: {self.name}\")\n",
        "\n",
        "class Teacher(Person):\n",
        "    def __init__(self, name, subject):\n",
        "        super().__init__(name) \n",
        "        self.subject = subject \n",
        "\n",
        "    def show_subject(self):\n",
        "        print(f\"Subject: {self.subject}\")\n",
        "\n",
        "teacher = Teacher(\"Akash\",\"Mathematics\") \n",
        "teacher.show_name()\n",
        "teacher.show_subject()               "
      ]
    },
    {
      "cell_type": "markdown",
      "id": "062ac860",
      "metadata": {
        "id": "062ac860"
      },
      "source": [
        "### Question 9 (Hard)\n",
        "**Encapsulation Example**\n",
        "\n",
        "Create a class `BankAccount` with attributes `__balance` (private) and `account_holder`.  \n",
        "Add methods `deposit(amount)` and `withdraw(amount)` to update the balance safely.  \n",
        "Print the final balance only through a method `show_balance()`."
      ]
    },
    {
      "cell_type": "code",
      "execution_count": 7,
      "id": "F6gWsUOFz5XN",
      "metadata": {
        "id": "F6gWsUOFz5XN"
      },
      "outputs": [
        {
          "name": "stdout",
          "output_type": "stream",
          "text": [
            "₹2000 deposited successfully.\n",
            "₹1500 withdrawn successfully.\n",
            "Account Holder: Akash Chauhan\n",
            "Current Balance: ₹5500\n"
          ]
        }
      ],
      "source": [
        "#answer here\n",
        "class BankAccount:\n",
        "    def __init__(self, account_holder, balance=0):\n",
        "        self.account_holder = account_holder\n",
        "        self.__balance = balance   \n",
        "\n",
        "    def deposit(self, amount):\n",
        "        if amount > 0:\n",
        "            self.__balance += amount\n",
        "            print(f\"₹{amount} deposited successfully.\")\n",
        "        else:\n",
        "            print(\"Deposit amount must be positive.\")\n",
        "\n",
        "    def withdraw(self, amount):\n",
        "        if amount <= 0:\n",
        "            print(\"Withdrawal amount must be positive.\")\n",
        "        elif amount > self.__balance:\n",
        "            print(\"Insufficient balance.\")\n",
        "        else:\n",
        "            self.__balance -= amount\n",
        "            print(f\"₹{amount} withdrawn successfully.\")\n",
        "\n",
        "    def show_balance(self):\n",
        "        print(f\"Account Holder: {self.account_holder}\")\n",
        "        print(f\"Current Balance: ₹{self.__balance}\")\n",
        "\n",
        "\n",
        "acc1 = BankAccount(\"Akash Chauhan\", 5000)\n",
        "acc1.deposit(2000)\n",
        "acc1.withdraw(1500)\n",
        "acc1.show_balance()\n"
      ]
    },
    {
      "cell_type": "markdown",
      "id": "f10a7d88",
      "metadata": {
        "id": "f10a7d88"
      },
      "source": [
        "### Question 10 (Hard)\n",
        "**Polymorphism Example**\n",
        "\n",
        "Create two classes: `Dog` and `Cat`.  \n",
        "Both should have a method named `speak()` that prints the sound of the animal.  \n",
        "Write a function `animal_sound(animal)` that calls the `speak()` method of any animal passed to it.\n",
        "\n",
        "*Hint:* This shows how the same method name can have different behaviors depending on the object type."
      ]
    },
    {
      "cell_type": "code",
      "execution_count": 8,
      "id": "tvczT-hEz6Kd",
      "metadata": {
        "id": "tvczT-hEz6Kd"
      },
      "outputs": [
        {
          "name": "stdout",
          "output_type": "stream",
          "text": [
            "Woof! Woof!\n",
            "Meow! Meow!\n"
          ]
        }
      ],
      "source": [
        "#answer here\n",
        "class Dog:\n",
        "    def speak(self):\n",
        "        print(\"Woof! Woof!\")\n",
        "\n",
        "class Cat:\n",
        "    def speak(self):\n",
        "        print(\"Meow! Meow!\")\n",
        "\n",
        "def animal_sound(animal):\n",
        "    animal.speak()\n",
        "\n",
        "\n",
        "dog1 = Dog()\n",
        "cat1 = Cat()\n",
        "\n",
        "animal_sound(dog1) \n",
        "animal_sound(cat1)  \n"
      ]
    }
  ],
  "metadata": {
    "colab": {
      "provenance": []
    },
    "kernelspec": {
      "display_name": "base",
      "language": "python",
      "name": "python3"
    },
    "language_info": {
      "codemirror_mode": {
        "name": "ipython",
        "version": 3
      },
      "file_extension": ".py",
      "mimetype": "text/x-python",
      "name": "python",
      "nbconvert_exporter": "python",
      "pygments_lexer": "ipython3",
      "version": "3.11.5"
    }
  },
  "nbformat": 4,
  "nbformat_minor": 5
}
