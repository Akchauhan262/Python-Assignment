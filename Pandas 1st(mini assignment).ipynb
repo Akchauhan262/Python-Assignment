{
  "cells": [
    {
      "cell_type": "markdown",
      "id": "aed467f0",
      "metadata": {
        "id": "aed467f0"
      },
      "source": [
        "# Pandas First Exercises\n",
        "Dear Students this notebook contains simple exercises for beginners to practice basic Pandas operations such as creating Series, DataFrames, saving files, and importing data."
      ]
    },
    {
      "cell_type": "markdown",
      "id": "99bfd544",
      "metadata": {
        "id": "99bfd544"
      },
      "source": [
        "### Exercise 1: Creating Pandas Series"
      ]
    },
    {
      "cell_type": "markdown",
      "id": "7b27040c",
      "metadata": {
        "id": "7b27040c"
      },
      "source": [
        "1. Create a Pandas Series containing the marks of 5 students in Maths.\n",
        "2. Create a Pandas Series that stores 5 city names.\n",
        "3. Create a Pandas Series with 5 different floating-point numbers representing temperature readings."
      ]
    },
    {
      "cell_type": "code",
      "execution_count": 2,
      "id": "OK7V5fd5kmrn",
      "metadata": {
        "id": "OK7V5fd5kmrn"
      },
      "outputs": [
        {
          "name": "stdout",
          "output_type": "stream",
          "text": [
            "0    88\n",
            "1    77\n",
            "2    66\n",
            "3    55\n",
            "4    44\n",
            "5    22\n",
            "6    11\n",
            "dtype: int64\n",
            "0        Noida\n",
            "1         Pune\n",
            "2      Gujarat\n",
            "3       Bhopal\n",
            "4    Bangalore\n",
            "dtype: object\n",
            "0    92.80\n",
            "1    87.50\n",
            "2    76.20\n",
            "3    99.90\n",
            "4    23.65\n",
            "dtype: float64\n"
          ]
        }
      ],
      "source": [
        "#answer here\n",
        "import pandas as pd\n",
        "pd.__version__\n",
        "\n",
        "Marks = pd.Series([88,77,66,55,44,22,11])\n",
        "\n",
        "City = pd.Series([\"Noida\", \"Pune\", \"Gujarat\", \"Bhopal\", \"Bangalore\"])\n",
        "\n",
        "Floating_num = pd.Series([92.8 ,87.5 ,76.2 ,99.9 ,23.65])\n",
        "\n",
        "print(Marks)\n",
        "print(City)\n",
        "print(Floating_num)"
      ]
    },
    {
      "cell_type": "markdown",
      "id": "40f70f70",
      "metadata": {
        "id": "40f70f70"
      },
      "source": [
        "### Exercise 2: Creating DataFrames from Series"
      ]
    },
    {
      "cell_type": "markdown",
      "id": "dcbe763b",
      "metadata": {
        "id": "dcbe763b"
      },
      "source": [
        "1. Create two Series: one containing student names and another containing their ages. Combine them into a single DataFrame.\n",
        "2. Create three Series: 'Product Name', 'Price', and 'Quantity'. Combine them into one DataFrame and display it."
      ]
    },
    {
      "cell_type": "code",
      "execution_count": null,
      "id": "_E_7kzvVkp7e",
      "metadata": {
        "id": "_E_7kzvVkp7e"
      },
      "outputs": [
        {
          "name": "stdout",
          "output_type": "stream",
          "text": [
            "  Product Name  Price Quantity\n",
            "0         Milk     30        1\n",
            "1        Bread     20        1\n",
            "2          Egg      9      2kg\n",
            "3       Pulses     40      3kg\n",
            "4         Rice     55      5kg\n"
          ]
        }
      ],
      "source": [
        "#answer here\n",
        "\n",
        "# Task 1\n",
        "Name = pd.Series([\"Akash\", \"Rahul\", \"Ashu\", \"Mohan\", \"Sujal\"])\n",
        "Age = pd.Series([24, 23, 22, 21, 20])\n",
        "\n",
        "# var = pd.concat({\"Name\": Name, \"Age\": Age}, axis = 1)\n",
        "# print(var)\n",
        "\n",
        "# Task 2\n",
        "Product_Name = pd.Series([\"Milk\", \"Bread\", \" Egg\", \"Pulses\", \"Rice\"])\n",
        "Price = pd.Series([30, 20, 9, 40, 55])\n",
        "Quantity = pd.Series([1, 1, \"2kg\", \"3kg\", \"5kg\"])\n",
        "\n",
        "# var = pd.concat({\"\"})\n",
        "Grocery_df = pd.DataFrame({\n",
        "    'Product Name': Product_Name,\n",
        "    'Price': Price,\n",
        "    'Quantity': Quantity\n",
        "})\n",
        "\n",
        "print(Grocery_df)\n",
        "\n"
      ]
    },
    {
      "cell_type": "markdown",
      "id": "13c74f3d",
      "metadata": {
        "id": "13c74f3d"
      },
      "source": [
        "### Exercise 3: Creating DataFrames from Dictionaries"
      ]
    },
    {
      "cell_type": "markdown",
      "id": "14cd2ed5",
      "metadata": {
        "id": "14cd2ed5"
      },
      "source": [
        "1. Create a dictionary with keys as 'Name', 'Age', and 'City', each containing a list of 3 values. Convert it into a DataFrame.\n",
        "2. Create a dictionary with keys 'Product', 'Category', and 'Price'. Convert it into a DataFrame and print it."
      ]
    },
    {
      "cell_type": "code",
      "execution_count": 15,
      "id": "JLxq4HlGkqig",
      "metadata": {
        "id": "JLxq4HlGkqig"
      },
      "outputs": [
        {
          "name": "stdout",
          "output_type": "stream",
          "text": [
            "    Name  Age     City\n",
            "0  Akash   24    Noida\n",
            "1   Abhi   25     Pune\n",
            "2   Subh   26  Gurgaon\n"
          ]
        }
      ],
      "source": [
        "#answer here\n",
        "import pandas as pd\n",
        "Student_df = {\n",
        "    \"Name\": ['Akash','Abhi', 'Subh'],\n",
        "    \"Age\": [24,25,26],\n",
        "    \"City\": [\"Noida\",\"Pune\", \"Gurgaon\"]\n",
        "    }\n",
        "\n",
        "var = pd.DataFrame(Student_df)\n",
        "\n",
        "print(var)\n",
        "\n"
      ]
    },
    {
      "cell_type": "code",
      "execution_count": 16,
      "id": "29759198",
      "metadata": {},
      "outputs": [
        {
          "name": "stdout",
          "output_type": "stream",
          "text": [
            "\n",
            "Product DataFrame:\n",
            "   Product     Category   Price\n",
            "0     Desk    Furniture  150.00\n",
            "1    Chair    Furniture   85.50\n",
            "2  Monitor  Electronics  299.99\n"
          ]
        }
      ],
      "source": [
        "# Dictionary with product information\n",
        "product_dict = {\n",
        "    'Product': ['Desk', 'Chair', 'Monitor'],\n",
        "    'Category': ['Furniture', 'Furniture', 'Electronics'],\n",
        "    'Price': [150.00, 85.50, 299.99]\n",
        "}\n",
        "\n",
        "\n",
        "product_df = pd.DataFrame(product_dict)\n",
        "\n",
        "print(\"\\nProduct DataFrame:\")\n",
        "print(product_df)\n"
      ]
    },
    {
      "cell_type": "markdown",
      "id": "76437b78",
      "metadata": {
        "id": "76437b78"
      },
      "source": [
        "### Exercise 4: Saving DataFrames to CSV and Excel"
      ]
    },
    {
      "cell_type": "markdown",
      "id": "a7b957b3",
      "metadata": {
        "id": "a7b957b3"
      },
      "source": [
        "1. Save any one of your created DataFrames into a CSV file named 'students.csv'.\n",
        "2. Save another DataFrame into an Excel file named 'products.xlsx'."
      ]
    },
    {
      "cell_type": "code",
      "execution_count": 17,
      "id": "1ewTIFMykrER",
      "metadata": {
        "id": "1ewTIFMykrER"
      },
      "outputs": [],
      "source": [
        "#answer here\n",
        "product_df.to_csv(\"Product.csv\")"
      ]
    },
    {
      "cell_type": "markdown",
      "id": "003c619d",
      "metadata": {
        "id": "003c619d"
      },
      "source": [
        "### Exercise 5: Reading Data from Files"
      ]
    },
    {
      "cell_type": "markdown",
      "id": "acbd6ed2",
      "metadata": {
        "id": "acbd6ed2"
      },
      "source": [
        "1. Use Pandas to read the CSV file 'students.csv' that you created earlier.\n",
        "2. Use Pandas to read the Excel file 'products.xlsx' that you created earlier."
      ]
    },
    {
      "cell_type": "code",
      "execution_count": null,
      "id": "4abENRlTkrsx",
      "metadata": {
        "id": "4abENRlTkrsx"
      },
      "outputs": [],
      "source": [
        "#answer here"
      ]
    }
  ],
  "metadata": {
    "colab": {
      "provenance": []
    },
    "kernelspec": {
      "display_name": "base",
      "language": "python",
      "name": "python3"
    },
    "language_info": {
      "codemirror_mode": {
        "name": "ipython",
        "version": 3
      },
      "file_extension": ".py",
      "mimetype": "text/x-python",
      "name": "python",
      "nbconvert_exporter": "python",
      "pygments_lexer": "ipython3",
      "version": "3.11.5"
    }
  },
  "nbformat": 4,
  "nbformat_minor": 5
}
