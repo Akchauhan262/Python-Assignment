{
  "cells": [
    {
      "cell_type": "markdown",
      "metadata": {
        "id": "8pRf9jW4fyVP"
      },
      "source": [
        "# Lists, Tuples, and Sets : Practice Assignment\n",
        "\n",
        "### Dear students these question will help you build a very strong foundation on data structures specificaly as data analyst\n",
        "\n",
        "Each problem has:\n",
        "- **Problem statement**\n",
        "- **What the expected answer should look like** (an example of the final result/state)\n",
        "- An **empty code cell** for you to solve it (look for `# write your code here`).\n",
        "\n",
        "> Tip: Run cells independently."
      ],
      "id": "8pRf9jW4fyVP"
    },
    {
      "cell_type": "markdown",
      "metadata": {
        "id": "dIbr5ZfofyVS"
      },
      "source": [
        "### List Q1\n",
        "\n",
        "**Problem:** Write a program to retrieve the value 4 from the list `my_list = [[1, 2], [3, 4], [5, 6]]` using indexing.\n",
        "\n",
        "**Expected answer should look like (example):**\n",
        "```\n",
        "4\n",
        "```"
      ],
      "id": "dIbr5ZfofyVS"
    },
    {
      "cell_type": "code",
      "execution_count": 78,
      "metadata": {
        "id": "qKpIQgUPfyVS",
        "colab": {
          "base_uri": "https://localhost:8080/"
        },
        "outputId": "a71445b2-5157-43b1-a33f-b42fe43ee526"
      },
      "outputs": [
        {
          "output_type": "stream",
          "name": "stdout",
          "text": [
            "4\n"
          ]
        }
      ],
      "source": [
        "# write your code here\n",
        "my_list = [[1, 2], [3, 4], [5, 6]]\n",
        "value = my_list[1][1]\n",
        "print(value)"
      ],
      "id": "qKpIQgUPfyVS"
    },
    {
      "cell_type": "markdown",
      "metadata": {
        "id": "qErZqUJvfyVT"
      },
      "source": [
        "### List Q2\n",
        "\n",
        "**Problem:** Write a program to reverse the list `[10, 20, 30, 40, 50]` using slicing and explain how the slicing parameters achieve the result.\n",
        "\n",
        "**Expected answer should look like (example):**\n",
        "```\n",
        "[50, 40, 30, 20, 10]  # slicing: lst[::-1] (start:end:step=-1)\n",
        "```"
      ],
      "id": "qErZqUJvfyVT"
    },
    {
      "cell_type": "code",
      "execution_count": 79,
      "metadata": {
        "id": "Xb_G2R0GfyVT",
        "colab": {
          "base_uri": "https://localhost:8080/"
        },
        "outputId": "d4c053c7-e8ae-4bb3-8ee4-3f6b8027ba0c"
      },
      "outputs": [
        {
          "output_type": "stream",
          "name": "stdout",
          "text": [
            "[50, 40, 30, 20, 10] # slicing: lst[::-1] (start:end:step=-1)\n"
          ]
        }
      ],
      "source": [
        "# write your code here\n",
        "lst = [10, 20, 30, 40, 50]\n",
        "rev = lst[::-1]\n",
        "print(rev,\"# slicing: lst[::-1] (start:end:step=-1)\")"
      ],
      "id": "Xb_G2R0GfyVT"
    },
    {
      "cell_type": "markdown",
      "metadata": {
        "id": "wk0JTcZgfyVU"
      },
      "source": [
        "### List Q3\n",
        "\n",
        "**Problem:** Write a program to extract every second element from the list `[1, 2, 3, 4, 5, 6, 7, 8]` using slicing.\n",
        "\n",
        "**Expected answer should look like (example):**\n",
        "```\n",
        "[2, 4, 6, 8]\n",
        "```"
      ],
      "id": "wk0JTcZgfyVU"
    },
    {
      "cell_type": "code",
      "execution_count": 80,
      "metadata": {
        "id": "yRA2C-H5fyVU",
        "colab": {
          "base_uri": "https://localhost:8080/"
        },
        "outputId": "6e98d1bb-cabe-4243-8c7d-1ec3108a684f"
      },
      "outputs": [
        {
          "output_type": "stream",
          "name": "stdout",
          "text": [
            "[2, 4, 6, 8]\n"
          ]
        }
      ],
      "source": [
        "# write your code here\n",
        "lst1 = [1,2,3,4,5,6,7,8]\n",
        "val = lst1[1::2]\n",
        "print(val)"
      ],
      "id": "yRA2C-H5fyVU"
    },
    {
      "cell_type": "markdown",
      "metadata": {
        "id": "oK9W1WZBfyVU"
      },
      "source": [
        "### List Q4\n",
        "\n",
        "**Problem:** Write a program to replace the middle two elements of the list `[10, 20, 30, 40, 50]` with `[99, 100, 101]` using slicing.\n",
        "\n",
        "**Expected answer should look like (example):**\n",
        "```\n",
        "[10, 20, 99, 100, 101, 50]\n",
        "```"
      ],
      "id": "oK9W1WZBfyVU"
    },
    {
      "cell_type": "code",
      "execution_count": 81,
      "metadata": {
        "id": "uB4t-1-FfyVU",
        "colab": {
          "base_uri": "https://localhost:8080/"
        },
        "outputId": "098f5bb8-c0a2-41b7-cc2d-3615ddb8e35d"
      },
      "outputs": [
        {
          "output_type": "stream",
          "name": "stdout",
          "text": [
            "[10, 20, 99, 100, 101, 50]\n"
          ]
        }
      ],
      "source": [
        "# write your code here\n",
        "lst = [10,20,30,40,50]\n",
        "lst[2:4] = [99,100,101]\n",
        "print(lst)\n"
      ],
      "id": "uB4t-1-FfyVU"
    },
    {
      "cell_type": "markdown",
      "metadata": {
        "id": "mOp9HBHafyVU"
      },
      "source": [
        "### List Q5\n",
        "\n",
        "**Problem:** Write a program to transform the list `[1, 2, 3, 4, 5]` into `[1, 99, 100, 101, 4, 5]` by modifying a slice.\n",
        "\n",
        "**Expected answer should look like (example):**\n",
        "```\n",
        "[1, 99, 100, 101, 4, 5]\n",
        "```"
      ],
      "id": "mOp9HBHafyVU"
    },
    {
      "cell_type": "code",
      "execution_count": 82,
      "metadata": {
        "id": "STvMWW5GfyVV",
        "colab": {
          "base_uri": "https://localhost:8080/"
        },
        "outputId": "c55957a8-d413-4a3a-fc72-fa29f2cd7982"
      },
      "outputs": [
        {
          "output_type": "stream",
          "name": "stdout",
          "text": [
            "[1, 99, 100, 101, 4, 5]\n"
          ]
        }
      ],
      "source": [
        "# write your code here\n",
        "lst = [1,2,3,4,5]\n",
        "lst[1:3] = [99,100,101]\n",
        "print(lst)"
      ],
      "id": "STvMWW5GfyVV"
    },
    {
      "cell_type": "markdown",
      "metadata": {
        "id": "YboV54EpfyVV"
      },
      "source": [
        "### List Q6\n",
        "\n",
        "**Problem:** Write a program to concatenate two lists without using the `+` operator.\n",
        "\n",
        "**Expected answer should look like (example):**\n",
        "```\n",
        "[...concatenated items...]  # e.g., via unpacking or extend\n",
        "```"
      ],
      "id": "YboV54EpfyVV"
    },
    {
      "cell_type": "code",
      "execution_count": 83,
      "metadata": {
        "id": "qEzZVAuGfyVV",
        "colab": {
          "base_uri": "https://localhost:8080/"
        },
        "outputId": "3964c5e9-9d9c-4e5d-a42e-f744ceee2306"
      },
      "outputs": [
        {
          "output_type": "stream",
          "name": "stdout",
          "text": [
            "[1, 2, 3, 4, 5, 'a', 'b', 'c', 'd', 'e']\n"
          ]
        }
      ],
      "source": [
        "# write your code here\n",
        "lst1 = [1,2,3,4,5]\n",
        "lst2 = ['a','b','c','d','e']\n",
        "combined = [*lst1,*lst2]\n",
        "print(combined)"
      ],
      "id": "qEzZVAuGfyVV"
    },
    {
      "cell_type": "markdown",
      "metadata": {
        "id": "aiMDaI-CfyVV"
      },
      "source": [
        "### List Q7\n",
        "\n",
        "**Problem:** Write a program to demonstrate how the `extend` method behaves if the argument is a string using `my_list = [1, 2, 3]`.\n",
        "\n",
        "**Expected answer should look like (example):**\n",
        "```\n",
        "[1, 2, 3, 'a', 'b', 'c']  # e.g., my_list.extend('abc') adds each char\n",
        "```"
      ],
      "id": "aiMDaI-CfyVV"
    },
    {
      "cell_type": "code",
      "execution_count": 84,
      "metadata": {
        "id": "xYcujVcnfyVV",
        "colab": {
          "base_uri": "https://localhost:8080/"
        },
        "outputId": "535ee34b-f4a1-462b-d1f7-5360444aecb7"
      },
      "outputs": [
        {
          "output_type": "stream",
          "name": "stdout",
          "text": [
            "[1, 2, 3, 'a', 'b', 'c']\n"
          ]
        }
      ],
      "source": [
        "# write your code here\n",
        "my_list = [1,2,3]\n",
        "my_list2 = ['a','b','c']\n",
        "my_list.extend(my_list2)\n",
        "print(my_list)"
      ],
      "id": "xYcujVcnfyVV"
    },
    {
      "cell_type": "markdown",
      "metadata": {
        "id": "jDPtjjYrfyVV"
      },
      "source": [
        "### List Q8\n",
        "\n",
        "**Problem:** Write a program that uses `extend` to merge two lists in such a way that duplicates from the second list are not added.\n",
        "\n",
        "**Expected answer should look like (example):**\n",
        "```\n",
        "[merged_unique_list]  # second list's items only if not already present\n",
        "```"
      ],
      "id": "jDPtjjYrfyVV"
    },
    {
      "cell_type": "code",
      "execution_count": 85,
      "metadata": {
        "id": "MDSsR4YdfyVV",
        "colab": {
          "base_uri": "https://localhost:8080/"
        },
        "outputId": "e2217c2a-9d3e-4d5b-e017-d1e92b5228a1"
      },
      "outputs": [
        {
          "output_type": "stream",
          "name": "stdout",
          "text": [
            "[10, 20, 30, 40, 50, 60]\n"
          ]
        }
      ],
      "source": [
        "# write your code here\n",
        "list1 = [10,20,30,40]\n",
        "list2 = [30,40,50,60]\n",
        "\n",
        "for item in list2:\n",
        "  if item not in list1:\n",
        "    list1.extend([item])\n",
        "print(list1)"
      ],
      "id": "MDSsR4YdfyVV"
    },
    {
      "cell_type": "markdown",
      "metadata": {
        "id": "bnFHf3nKfyVV"
      },
      "source": [
        "### List Q9\n",
        "\n",
        "**Problem:** Write a program to create a list of 100 zeros using repetition and then replace every 10th element with 1.\n",
        "\n",
        "**Expected answer should look like (example):**\n",
        "```\n",
        "[1 appears at indices 9,19,29,...]\n",
        "```"
      ],
      "id": "bnFHf3nKfyVV"
    },
    {
      "cell_type": "code",
      "execution_count": 86,
      "metadata": {
        "id": "TnQW2Z11fyVV",
        "colab": {
          "base_uri": "https://localhost:8080/"
        },
        "outputId": "b77804eb-ea2c-4b63-8914-69dd0c917efe"
      },
      "outputs": [
        {
          "output_type": "stream",
          "name": "stdout",
          "text": [
            "[0, 0, 0, 0, 0, 0, 0, 0, 0, 1, 0, 0, 0, 0, 0, 0, 0, 0, 0, 1, 0, 0, 0, 0, 0, 0, 0, 0, 0, 1, 0, 0, 0, 0, 0, 0, 0, 0, 0, 1, 0, 0, 0, 0, 0, 0, 0, 0, 0, 1, 0, 0, 0, 0, 0, 0, 0, 0, 0, 1, 0, 0, 0, 0, 0, 0, 0, 0, 0, 1, 0, 0, 0, 0, 0, 0, 0, 0, 0, 1, 0, 0, 0, 0, 0, 0, 0, 0, 0, 1, 0, 0, 0, 0, 0, 0, 0, 0, 0, 1]\n"
          ]
        }
      ],
      "source": [
        "# write your code here\n",
        "lst = [0]* 100\n",
        "\n",
        "for i in range(9,100,10):\n",
        "  lst[i] = 1\n",
        "\n",
        "print(lst)"
      ],
      "id": "TnQW2Z11fyVV"
    },
    {
      "cell_type": "markdown",
      "metadata": {
        "id": "g2UP8pXGfyVW"
      },
      "source": [
        "### List Q10\n",
        "\n",
        "**Problem:** Write a Python command without using a loop to check if **all** the elements of `[2, 4]` are present in the list `[1, 2, 3, 4, 5]`.\n",
        "\n",
        "**Expected answer should look like (example):**\n",
        "```\n",
        "True  # e.g., set([2,4]).issubset([1,2,3,4,5])\n",
        "```"
      ],
      "id": "g2UP8pXGfyVW"
    },
    {
      "cell_type": "code",
      "execution_count": 119,
      "metadata": {
        "id": "R8-l25c4fyVW",
        "colab": {
          "base_uri": "https://localhost:8080/",
          "height": 193
        },
        "outputId": "0fffaac3-c375-4c6b-e2af-4091c047265d"
      },
      "outputs": [
        {
          "output_type": "error",
          "ename": "TypeError",
          "evalue": "'set' object is not callable",
          "traceback": [
            "\u001b[0;31m---------------------------------------------------------------------------\u001b[0m",
            "\u001b[0;31mTypeError\u001b[0m                                 Traceback (most recent call last)",
            "\u001b[0;32m/tmp/ipython-input-2887969912.py\u001b[0m in \u001b[0;36m<cell line: 0>\u001b[0;34m()\u001b[0m\n\u001b[1;32m      2\u001b[0m \u001b[0mlst\u001b[0m \u001b[0;34m=\u001b[0m \u001b[0;34m[\u001b[0m\u001b[0;36m1\u001b[0m\u001b[0;34m,\u001b[0m\u001b[0;36m2\u001b[0m\u001b[0;34m,\u001b[0m\u001b[0;36m3\u001b[0m\u001b[0;34m,\u001b[0m\u001b[0;36m4\u001b[0m\u001b[0;34m,\u001b[0m\u001b[0;36m5\u001b[0m\u001b[0;34m]\u001b[0m\u001b[0;34m\u001b[0m\u001b[0;34m\u001b[0m\u001b[0m\n\u001b[1;32m      3\u001b[0m \u001b[0mlst1\u001b[0m \u001b[0;34m=\u001b[0m \u001b[0;34m[\u001b[0m\u001b[0;36m2\u001b[0m\u001b[0;34m,\u001b[0m\u001b[0;36m4\u001b[0m\u001b[0;34m]\u001b[0m\u001b[0;34m\u001b[0m\u001b[0;34m\u001b[0m\u001b[0m\n\u001b[0;32m----> 4\u001b[0;31m \u001b[0mres\u001b[0m \u001b[0;34m=\u001b[0m \u001b[0mset\u001b[0m\u001b[0;34m(\u001b[0m\u001b[0mlst1\u001b[0m\u001b[0;34m)\u001b[0m\u001b[0;34m.\u001b[0m\u001b[0missubset\u001b[0m\u001b[0;34m(\u001b[0m\u001b[0mlst\u001b[0m\u001b[0;34m)\u001b[0m\u001b[0;34m\u001b[0m\u001b[0;34m\u001b[0m\u001b[0m\n\u001b[0m\u001b[1;32m      5\u001b[0m \u001b[0mprint\u001b[0m\u001b[0;34m(\u001b[0m\u001b[0mres\u001b[0m\u001b[0;34m)\u001b[0m\u001b[0;34m\u001b[0m\u001b[0;34m\u001b[0m\u001b[0m\n",
            "\u001b[0;31mTypeError\u001b[0m: 'set' object is not callable"
          ]
        }
      ],
      "source": [
        "# write your code here\n",
        "lst = [1,2,3,4,5]\n",
        "lst1 = [2,4]\n",
        "res = set(lst1).issubset(lst)\n",
        "print(res)"
      ],
      "id": "R8-l25c4fyVW"
    },
    {
      "cell_type": "markdown",
      "metadata": {
        "id": "aWvONtsUfyVW"
      },
      "source": [
        "### List Q11\n",
        "\n",
        "**Problem:** Write a program to use `not in` to filter out all the elements of a list that exist in another list, e.g., removing elements in `[2, 4]` from `[1, 2, 3, 4, 5]`.\n",
        "\n",
        "**Expected answer should look like (example):**\n",
        "```\n",
        "[1, 3, 5]\n",
        "```"
      ],
      "id": "aWvONtsUfyVW"
    },
    {
      "cell_type": "code",
      "execution_count": null,
      "metadata": {
        "id": "5RM0kWVufyVW"
      },
      "outputs": [],
      "source": [
        "# write your code here\n",
        "lst1 = [1,2,3,4,5]\n",
        "lst2 = [2,4]\n",
        "\n",
        "filter = []\n",
        "for i in lst1:\n",
        "  if i not in lst2:\n",
        "    filter.append(i)\n",
        "print(filter)"
      ],
      "id": "5RM0kWVufyVW"
    },
    {
      "cell_type": "markdown",
      "metadata": {
        "id": "gFcNPkVMfyVW"
      },
      "source": [
        "### List Q12\n",
        "\n",
        "**Problem:** Create a list of integers from 1 to 10.\n",
        "\n",
        "**Expected answer should look like (example):**\n",
        "```\n",
        "[1, 2, 3, 4, 5, 6, 7, 8, 9, 10]\n",
        "```"
      ],
      "id": "gFcNPkVMfyVW"
    },
    {
      "cell_type": "code",
      "execution_count": null,
      "metadata": {
        "id": "OMf9DKBffyVW"
      },
      "outputs": [],
      "source": [
        "# write your code here\n",
        "lst = []\n",
        "for i in range(1,11):\n",
        "  lst.append(i)\n",
        "print(lst)"
      ],
      "id": "OMf9DKBffyVW"
    },
    {
      "cell_type": "markdown",
      "metadata": {
        "id": "qLAAloubfyVW"
      },
      "source": [
        "### List Q13\n",
        "\n",
        "**Problem:** Add an element to the end of a list using `append()`.\n",
        "\n",
        "**Expected answer should look like (example):**\n",
        "```\n",
        "[...original..., 99]\n",
        "```"
      ],
      "id": "qLAAloubfyVW"
    },
    {
      "cell_type": "code",
      "execution_count": null,
      "metadata": {
        "id": "JAEwIYJUfyVW"
      },
      "outputs": [],
      "source": [
        "# write your code here\n",
        "lst = [10,20,30,40,50]\n",
        "lst.append(99)\n",
        "print(lst)"
      ],
      "id": "JAEwIYJUfyVW"
    },
    {
      "cell_type": "markdown",
      "metadata": {
        "id": "7FZcvrd6fyVW"
      },
      "source": [
        "### List Q14\n",
        "\n",
        "**Problem:** Insert an element at the second position in a list.\n",
        "\n",
        "**Expected answer should look like (example):**\n",
        "```\n",
        "[first, NEW, rest...]\n",
        "```"
      ],
      "id": "7FZcvrd6fyVW"
    },
    {
      "cell_type": "code",
      "execution_count": 88,
      "metadata": {
        "id": "xSlSO0mOfyVW",
        "colab": {
          "base_uri": "https://localhost:8080/"
        },
        "outputId": "fe220b43-43bb-4518-92f4-3b288c38f866"
      },
      "outputs": [
        {
          "output_type": "stream",
          "name": "stdout",
          "text": [
            "[1, 10, 2, 3, 4, 5]\n"
          ]
        }
      ],
      "source": [
        "# write your code here\n",
        "lst = [1,2,3,4,5]\n",
        "lst.insert(1,10)\n",
        "print(lst)"
      ],
      "id": "xSlSO0mOfyVW"
    },
    {
      "cell_type": "markdown",
      "metadata": {
        "id": "lvazvs0efyVW"
      },
      "source": [
        "### List Q15\n",
        "\n",
        "**Problem:** Remove an element from a list using `remove()`.\n",
        "\n",
        "**Expected answer should look like (example):**\n",
        "```\n",
        "[list without that value]\n",
        "```"
      ],
      "id": "lvazvs0efyVW"
    },
    {
      "cell_type": "code",
      "execution_count": 89,
      "metadata": {
        "id": "IWI8ZjrPfyVW",
        "colab": {
          "base_uri": "https://localhost:8080/"
        },
        "outputId": "7d1429e4-1b70-40a5-f543-3bd308fc18ce"
      },
      "outputs": [
        {
          "output_type": "stream",
          "name": "stdout",
          "text": [
            "[1, 2, 4, 5]\n"
          ]
        }
      ],
      "source": [
        "# write your code here\n",
        "lst = [1,2,3,4,5]\n",
        "lst.remove(3)\n",
        "print(lst)"
      ],
      "id": "IWI8ZjrPfyVW"
    },
    {
      "cell_type": "markdown",
      "metadata": {
        "id": "Se9S-xEmfyVW"
      },
      "source": [
        "### List Q16\n",
        "\n",
        "**Problem:** Remove and return the last element of a list using `pop()`.\n",
        "\n",
        "**Expected answer should look like (example):**\n",
        "```\n",
        "popped_value  # and list becomes [..., without last]\n",
        "```"
      ],
      "id": "Se9S-xEmfyVW"
    },
    {
      "cell_type": "code",
      "execution_count": 90,
      "metadata": {
        "id": "WHUV0hJefyVW",
        "colab": {
          "base_uri": "https://localhost:8080/"
        },
        "outputId": "dbd73780-9fae-4553-f583-d0290d32652c"
      },
      "outputs": [
        {
          "output_type": "stream",
          "name": "stdout",
          "text": [
            "[1, 2, 3, 4]\n"
          ]
        }
      ],
      "source": [
        "# write your code here\n",
        "lst = [1,2,3,4,5]\n",
        "lst.pop()\n",
        "print(lst)"
      ],
      "id": "WHUV0hJefyVW"
    },
    {
      "cell_type": "markdown",
      "metadata": {
        "id": "Cdiq_m0ufyVX"
      },
      "source": [
        "### List Q17\n",
        "\n",
        "**Problem:** Find the length of a list **without** using the `len()` function.\n",
        "\n",
        "**Expected answer should look like (example):**\n",
        "```\n",
        "10  # manual count with loop\n",
        "```"
      ],
      "id": "Cdiq_m0ufyVX"
    },
    {
      "cell_type": "code",
      "execution_count": 91,
      "metadata": {
        "id": "zDB8NF_XfyVX",
        "colab": {
          "base_uri": "https://localhost:8080/"
        },
        "outputId": "2fb8c073-009c-41e5-9795-f1599785d865"
      },
      "outputs": [
        {
          "output_type": "stream",
          "name": "stdout",
          "text": [
            "5\n"
          ]
        }
      ],
      "source": [
        "# write your code here\n",
        "lst = [1,2,3,4,5]\n",
        "count = 0\n",
        "for i in lst:\n",
        "  count += 1\n",
        "print(count)"
      ],
      "id": "zDB8NF_XfyVX"
    },
    {
      "cell_type": "markdown",
      "metadata": {
        "id": "PJjb0FSafyVX"
      },
      "source": [
        "### List Q18\n",
        "\n",
        "**Problem:** Slice a list to get the first 5 elements.\n",
        "\n",
        "**Expected answer should look like (example):**\n",
        "```\n",
        "lst[:5] -> first five elements\n",
        "```"
      ],
      "id": "PJjb0FSafyVX"
    },
    {
      "cell_type": "code",
      "execution_count": 92,
      "metadata": {
        "id": "Hgf3_8IcfyVX",
        "colab": {
          "base_uri": "https://localhost:8080/"
        },
        "outputId": "16f436bd-1e50-4da7-ec23-34c51842881d"
      },
      "outputs": [
        {
          "output_type": "stream",
          "name": "stdout",
          "text": [
            "[1, 2, 3, 4, 5]\n"
          ]
        }
      ],
      "source": [
        "# write your code here\n",
        "lst = [1,2,3,4,5,6,7,8,9,10]\n",
        "print(lst[:5])"
      ],
      "id": "Hgf3_8IcfyVX"
    },
    {
      "cell_type": "markdown",
      "metadata": {
        "id": "vy6IHVyxfyVX"
      },
      "source": [
        "### List Q19\n",
        "\n",
        "**Problem:** Reverse a list using slicing.\n",
        "\n",
        "**Expected answer should look like (example):**\n",
        "```\n",
        "reversed_list  # lst[::-1]\n",
        "```"
      ],
      "id": "vy6IHVyxfyVX"
    },
    {
      "cell_type": "code",
      "execution_count": 93,
      "metadata": {
        "id": "-GzdbhQzfyVX",
        "colab": {
          "base_uri": "https://localhost:8080/"
        },
        "outputId": "ac74ea7d-90fb-48fb-b695-70aefd69b4b0"
      },
      "outputs": [
        {
          "output_type": "stream",
          "name": "stdout",
          "text": [
            "[5, 4, 3, 2, 1]\n"
          ]
        }
      ],
      "source": [
        "# write your code here\n",
        "lst = [1,2,3,4,5]\n",
        "print(lst[::-1])\n"
      ],
      "id": "-GzdbhQzfyVX"
    },
    {
      "cell_type": "markdown",
      "metadata": {
        "id": "HrmHD5tHfyVb"
      },
      "source": [
        "### List Q20\n",
        "\n",
        "**Problem:** Check if an element exists in a list using `in`.\n",
        "\n",
        "**Expected answer should look like (example):**\n",
        "```\n",
        "True/False\n",
        "```"
      ],
      "id": "HrmHD5tHfyVb"
    },
    {
      "cell_type": "code",
      "execution_count": 94,
      "metadata": {
        "id": "j83Skl7sfyVb",
        "colab": {
          "base_uri": "https://localhost:8080/"
        },
        "outputId": "a9318fe9-9b8a-4ce9-b59c-b3f1fc5376d3"
      },
      "outputs": [
        {
          "output_type": "stream",
          "name": "stdout",
          "text": [
            "True\n"
          ]
        }
      ],
      "source": [
        "# write your code here\n",
        "lst = [1,2,3,4,5]\n",
        "value = 2\n",
        "if value in lst:\n",
        "  print(True)\n",
        "else:\n",
        "  print(False)"
      ],
      "id": "j83Skl7sfyVb"
    },
    {
      "cell_type": "markdown",
      "metadata": {
        "id": "K51fd9txfyVb"
      },
      "source": [
        "### List Q21\n",
        "\n",
        "**Problem:** Concatenate two lists using the `+` operator.\n",
        "\n",
        "**Expected answer should look like (example):**\n",
        "```\n",
        "[combined elements]\n",
        "```"
      ],
      "id": "K51fd9txfyVb"
    },
    {
      "cell_type": "code",
      "execution_count": 95,
      "metadata": {
        "id": "VjBkHE1WfyVb",
        "colab": {
          "base_uri": "https://localhost:8080/"
        },
        "outputId": "f0df5711-447e-408e-dc7e-357680e4cd9c"
      },
      "outputs": [
        {
          "output_type": "stream",
          "name": "stdout",
          "text": [
            "[1, 2, 3, 4, 5, 6, 7, 8, 9, 10]\n"
          ]
        }
      ],
      "source": [
        "# write your code here\n",
        "lst1 = [1,2,3,4,5]\n",
        "lst2 = [6,7,8,9,10]\n",
        "combined = lst1 + lst2\n",
        "print(combined)"
      ],
      "id": "VjBkHE1WfyVb"
    },
    {
      "cell_type": "markdown",
      "metadata": {
        "id": "UrDqHcRPfyVb"
      },
      "source": [
        "### List Q22\n",
        "\n",
        "**Problem:** Find the sum of all elements in a list.\n",
        "\n",
        "**Expected answer should look like (example):**\n",
        "```\n",
        "numeric_sum\n",
        "```"
      ],
      "id": "UrDqHcRPfyVb"
    },
    {
      "cell_type": "code",
      "execution_count": 96,
      "metadata": {
        "id": "ngMHgBd_fyVb",
        "colab": {
          "base_uri": "https://localhost:8080/"
        },
        "outputId": "7e84680a-c09b-4b11-8513-c535aa077d8d"
      },
      "outputs": [
        {
          "output_type": "stream",
          "name": "stdout",
          "text": [
            "15\n"
          ]
        }
      ],
      "source": [
        "# write your code here\n",
        "lst = [1,2,3,4,5]\n",
        "sum = 0\n",
        "for i in lst:\n",
        "  sum += i\n",
        "print(sum)"
      ],
      "id": "ngMHgBd_fyVb"
    },
    {
      "cell_type": "markdown",
      "metadata": {
        "id": "wSQRcLcNfyVb"
      },
      "source": [
        "### List Q23\n",
        "\n",
        "**Problem:** Use list comprehension to generate a list of odd numbers from 1 to 10.\n",
        "\n",
        "**Expected answer should look like (example):**\n",
        "```\n",
        "[1, 3, 5, 7, 9]\n",
        "```"
      ],
      "id": "wSQRcLcNfyVb"
    },
    {
      "cell_type": "code",
      "execution_count": 97,
      "metadata": {
        "id": "6aBwuaj2fyVc",
        "colab": {
          "base_uri": "https://localhost:8080/"
        },
        "outputId": "281b4e6f-db76-4ff0-b213-4b24eb0e2352"
      },
      "outputs": [
        {
          "output_type": "stream",
          "name": "stdout",
          "text": [
            "[1, 3, 5, 7, 9]\n"
          ]
        }
      ],
      "source": [
        "# write your code here\n",
        "lst = []\n",
        "for i in range(1,11):\n",
        "  if i % 2 != 0:\n",
        "    lst.append(i)\n",
        "print(lst)\n"
      ],
      "id": "6aBwuaj2fyVc"
    },
    {
      "cell_type": "markdown",
      "metadata": {
        "id": "IQEJlGtWfyVc"
      },
      "source": [
        "### List Q24\n",
        "\n",
        "**Problem:** Convert a list with duplicate elements into a set to remove duplicates.\n",
        "\n",
        "**Expected answer should look like (example):**\n",
        "```\n",
        "{unique_elements}\n",
        "```"
      ],
      "id": "IQEJlGtWfyVc"
    },
    {
      "cell_type": "code",
      "execution_count": 98,
      "metadata": {
        "id": "2L_StV1tfyVc",
        "colab": {
          "base_uri": "https://localhost:8080/",
          "height": 193
        },
        "outputId": "3d517ec8-a662-40f3-f2f6-403bc4217040"
      },
      "outputs": [
        {
          "output_type": "error",
          "ename": "TypeError",
          "evalue": "'set' object is not callable",
          "traceback": [
            "\u001b[0;31m---------------------------------------------------------------------------\u001b[0m",
            "\u001b[0;31mTypeError\u001b[0m                                 Traceback (most recent call last)",
            "\u001b[0;32m/tmp/ipython-input-1061759921.py\u001b[0m in \u001b[0;36m<cell line: 0>\u001b[0;34m()\u001b[0m\n\u001b[1;32m      1\u001b[0m \u001b[0;31m# write your code here\u001b[0m\u001b[0;34m\u001b[0m\u001b[0;34m\u001b[0m\u001b[0m\n\u001b[1;32m      2\u001b[0m \u001b[0mlst\u001b[0m \u001b[0;34m=\u001b[0m \u001b[0;34m[\u001b[0m\u001b[0;36m1\u001b[0m\u001b[0;34m,\u001b[0m\u001b[0;36m2\u001b[0m\u001b[0;34m,\u001b[0m\u001b[0;36m3\u001b[0m\u001b[0;34m,\u001b[0m\u001b[0;36m3\u001b[0m\u001b[0;34m,\u001b[0m\u001b[0;36m4\u001b[0m\u001b[0;34m,\u001b[0m\u001b[0;36m4\u001b[0m\u001b[0;34m,\u001b[0m\u001b[0;36m5\u001b[0m\u001b[0;34m,\u001b[0m\u001b[0;36m6\u001b[0m\u001b[0;34m]\u001b[0m\u001b[0;34m\u001b[0m\u001b[0;34m\u001b[0m\u001b[0m\n\u001b[0;32m----> 3\u001b[0;31m \u001b[0mlst1\u001b[0m \u001b[0;34m=\u001b[0m \u001b[0mset\u001b[0m\u001b[0;34m(\u001b[0m\u001b[0mlst\u001b[0m\u001b[0;34m)\u001b[0m\u001b[0;34m\u001b[0m\u001b[0;34m\u001b[0m\u001b[0m\n\u001b[0m\u001b[1;32m      4\u001b[0m \u001b[0mprint\u001b[0m\u001b[0;34m(\u001b[0m\u001b[0mlst1\u001b[0m\u001b[0;34m)\u001b[0m\u001b[0;34m\u001b[0m\u001b[0;34m\u001b[0m\u001b[0m\n",
            "\u001b[0;31mTypeError\u001b[0m: 'set' object is not callable"
          ]
        }
      ],
      "source": [
        "# write your code here\n",
        "lst = [1,2,3,3,4,4,5,6]\n",
        "lst1 = set(lst)\n",
        "print(lst1)\n"
      ],
      "id": "2L_StV1tfyVc"
    },
    {
      "cell_type": "markdown",
      "metadata": {
        "id": "EELV4nHgfyVc"
      },
      "source": [
        "### List Q25\n",
        "\n",
        "**Problem:** Convert a string to a list of its characters.\n",
        "\n",
        "**Expected answer should look like (example):**\n",
        "```\n",
        "['h','e','l','l','o']\n",
        "```"
      ],
      "id": "EELV4nHgfyVc"
    },
    {
      "cell_type": "code",
      "execution_count": null,
      "metadata": {
        "id": "RtuvzGP7fyVc"
      },
      "outputs": [],
      "source": [
        "# write your code here\n",
        "string = 'hello'\n",
        "lst = list(string)\n",
        "print(lst)"
      ],
      "id": "RtuvzGP7fyVc"
    },
    {
      "cell_type": "markdown",
      "metadata": {
        "id": "7h2II8C9fyVc"
      },
      "source": [
        "### List Q26\n",
        "\n",
        "**Problem:** Multiply all items in a list using a loop.\n",
        "\n",
        "**Expected answer should look like (example):**\n",
        "```\n",
        "product_value\n",
        "```"
      ],
      "id": "7h2II8C9fyVc"
    },
    {
      "cell_type": "code",
      "execution_count": null,
      "metadata": {
        "id": "JvKxVBchfyVc"
      },
      "outputs": [],
      "source": [
        "# write your code here\n",
        "lst = [1,2,3,4,5]\n",
        "product_value = 1\n",
        "for i in lst:\n",
        "  product_value *= i\n",
        "print(product_value)"
      ],
      "id": "JvKxVBchfyVc"
    },
    {
      "cell_type": "markdown",
      "metadata": {
        "id": "Na-zJ1YdfyVc"
      },
      "source": [
        "### List Q27\n",
        "\n",
        "**Problem:** Sort a list of numbers in ascending order.\n",
        "\n",
        "**Expected answer should look like (example):**\n",
        "```\n",
        "[sorted numbers asc]\n",
        "```"
      ],
      "id": "Na-zJ1YdfyVc"
    },
    {
      "cell_type": "code",
      "execution_count": null,
      "metadata": {
        "id": "DFe5IEEAfyVc"
      },
      "outputs": [],
      "source": [
        "# write your code here\n",
        "lst = [5,4,3,2,1]\n",
        "lst.sort()\n",
        "print(lst)"
      ],
      "id": "DFe5IEEAfyVc"
    },
    {
      "cell_type": "markdown",
      "metadata": {
        "id": "qZW5tg5rfyVc"
      },
      "source": [
        "### List Q28\n",
        "\n",
        "**Problem:** Clear all elements from a list using `clear()`.\n",
        "\n",
        "**Expected answer should look like (example):**\n",
        "```\n",
        "[]\n",
        "```"
      ],
      "id": "qZW5tg5rfyVc"
    },
    {
      "cell_type": "code",
      "execution_count": null,
      "metadata": {
        "id": "jso3gUtvfyVc"
      },
      "outputs": [],
      "source": [
        "# write your code here\n",
        "lst = [1,2,3,4,5]\n",
        "lst.clear()\n",
        "print(lst)"
      ],
      "id": "jso3gUtvfyVc"
    },
    {
      "cell_type": "markdown",
      "metadata": {
        "id": "G751txAVfyVc"
      },
      "source": [
        "### List Q29\n",
        "\n",
        "**Problem:** Use a `while` loop to iterate through a list.\n",
        "\n",
        "**Expected answer should look like (example):**\n",
        "```\n",
        "each element printed/processed\n",
        "```"
      ],
      "id": "G751txAVfyVc"
    },
    {
      "cell_type": "code",
      "execution_count": null,
      "metadata": {
        "id": "VVnSkIvPfyVd"
      },
      "outputs": [],
      "source": [
        "# write your code here\n",
        "lst = [1,2,3,4,5]\n",
        "i = 0\n",
        "while i < len(lst):\n",
        "  print(lst[i])\n",
        "  i += 1"
      ],
      "id": "VVnSkIvPfyVd"
    },
    {
      "cell_type": "markdown",
      "metadata": {
        "id": "cduQw_jHfyVd"
      },
      "source": [
        "### List Q30\n",
        "\n",
        "**Problem:** Use a `for` loop with `enumerate()` to print index and value.\n",
        "\n",
        "**Expected answer should look like (example):**\n",
        "```\n",
        "index: value\n",
        "```"
      ],
      "id": "cduQw_jHfyVd"
    },
    {
      "cell_type": "code",
      "execution_count": null,
      "metadata": {
        "id": "oeZBqKEOfyVd"
      },
      "outputs": [],
      "source": [
        "# write your code here\n",
        "lst = [1,2,3,4,5]\n",
        "for i in range(len(lst)):\n",
        "  print(f'index: {i}, value: {lst[i]}')\n"
      ],
      "id": "oeZBqKEOfyVd"
    },
    {
      "cell_type": "markdown",
      "metadata": {
        "id": "zFd9UtnbfyVd"
      },
      "source": [
        "### List Q31\n",
        "\n",
        "**Problem:** Find the index of an element in a list using `index()`.\n",
        "\n",
        "**Expected answer should look like (example):**\n",
        "```\n",
        "integer_index\n",
        "```"
      ],
      "id": "zFd9UtnbfyVd"
    },
    {
      "cell_type": "code",
      "execution_count": 99,
      "metadata": {
        "id": "cPlSAo-8fyVd",
        "colab": {
          "base_uri": "https://localhost:8080/"
        },
        "outputId": "14d7c67f-ebb0-4146-dcfe-b5ba6a66e977"
      },
      "outputs": [
        {
          "output_type": "stream",
          "name": "stdout",
          "text": [
            "3\n"
          ]
        }
      ],
      "source": [
        "# write your code here\n",
        "lst = [1,2,3,4,5]\n",
        "index = lst.index(4)\n",
        "print(index)"
      ],
      "id": "cPlSAo-8fyVd"
    },
    {
      "cell_type": "markdown",
      "metadata": {
        "id": "gbu56yUMfyVd"
      },
      "source": [
        "### Tuples Q1\n",
        "\n",
        "**Problem:** Create a tuple with elements from 1 to 5.\n",
        "\n",
        "**Expected answer should look like (example):**\n",
        "```\n",
        "(1, 2, 3, 4, 5)\n",
        "```"
      ],
      "id": "gbu56yUMfyVd"
    },
    {
      "cell_type": "code",
      "execution_count": 100,
      "metadata": {
        "id": "eO6CeCapfyVd",
        "colab": {
          "base_uri": "https://localhost:8080/"
        },
        "outputId": "ffa15889-2a2e-4bc0-8d14-9a18b58e4832"
      },
      "outputs": [
        {
          "output_type": "stream",
          "name": "stdout",
          "text": [
            "(1, 2, 3, 4, 5)\n"
          ]
        }
      ],
      "source": [
        "# write your code here\n",
        "tup = (1,2,3,4,5)\n",
        "print(tup)"
      ],
      "id": "eO6CeCapfyVd"
    },
    {
      "cell_type": "markdown",
      "metadata": {
        "id": "bL2uXcsyfyVd"
      },
      "source": [
        "### Tuples Q2\n",
        "\n",
        "**Problem:** Access the third element in a tuple.\n",
        "\n",
        "**Expected answer should look like (example):**\n",
        "```\n",
        "value_at_index_2\n",
        "```"
      ],
      "id": "bL2uXcsyfyVd"
    },
    {
      "cell_type": "code",
      "execution_count": 101,
      "metadata": {
        "id": "CcmxEwb5fyVd",
        "colab": {
          "base_uri": "https://localhost:8080/"
        },
        "outputId": "6723e027-cb83-46a3-c938-16996fd3a5a3"
      },
      "outputs": [
        {
          "output_type": "stream",
          "name": "stdout",
          "text": [
            "3\n"
          ]
        }
      ],
      "source": [
        "# write your code here\n",
        "tup = (1,2,3,4,5)\n",
        "print(tup[2])"
      ],
      "id": "CcmxEwb5fyVd"
    },
    {
      "cell_type": "markdown",
      "metadata": {
        "id": "yVfJnjdIfyVd"
      },
      "source": [
        "### Tuples Q3\n",
        "\n",
        "**Problem:** Slice a tuple to get the last 3 elements.\n",
        "\n",
        "**Expected answer should look like (example):**\n",
        "```\n",
        "(last3,)\n",
        "```"
      ],
      "id": "yVfJnjdIfyVd"
    },
    {
      "cell_type": "code",
      "execution_count": 102,
      "metadata": {
        "id": "_Flfm1X0fyVd",
        "colab": {
          "base_uri": "https://localhost:8080/"
        },
        "outputId": "e10dc2bc-1bc3-4676-e839-206eacefa617"
      },
      "outputs": [
        {
          "output_type": "stream",
          "name": "stdout",
          "text": [
            "(3, 4, 5)\n"
          ]
        }
      ],
      "source": [
        "# write your code here\n",
        "tup = (1,2,3,4,5)\n",
        "print(tup[-3:])"
      ],
      "id": "_Flfm1X0fyVd"
    },
    {
      "cell_type": "markdown",
      "metadata": {
        "id": "qWC68fe8fyVd"
      },
      "source": [
        "### Tuples Q4\n",
        "\n",
        "**Problem:** Check if an element exists in a tuple using `in`.\n",
        "\n",
        "**Expected answer should look like (example):**\n",
        "```\n",
        "True/False\n",
        "```"
      ],
      "id": "qWC68fe8fyVd"
    },
    {
      "cell_type": "code",
      "execution_count": 103,
      "metadata": {
        "id": "LBZY1QqbfyVd",
        "colab": {
          "base_uri": "https://localhost:8080/"
        },
        "outputId": "63599879-f68b-4a84-945a-39f8d47d0e65"
      },
      "outputs": [
        {
          "output_type": "stream",
          "name": "stdout",
          "text": [
            "True\n"
          ]
        }
      ],
      "source": [
        "# write your code here\n",
        "tup = (1,2,3,4,5)\n",
        "value = 3\n",
        "if value in tup:\n",
        "  print(True)\n",
        "else:\n",
        "  print(False)\n"
      ],
      "id": "LBZY1QqbfyVd"
    },
    {
      "cell_type": "markdown",
      "metadata": {
        "id": "MHDJ8V3pfyVe"
      },
      "source": [
        "### Tuples Q5\n",
        "\n",
        "**Problem:** Find the index of an element in a tuple.\n",
        "\n",
        "**Expected answer should look like (example):**\n",
        "```\n",
        "integer_index\n",
        "```"
      ],
      "id": "MHDJ8V3pfyVe"
    },
    {
      "cell_type": "code",
      "execution_count": 104,
      "metadata": {
        "id": "lIuu_klOfyVe",
        "colab": {
          "base_uri": "https://localhost:8080/"
        },
        "outputId": "aecbab36-8a75-489f-c2ef-3164d2bf08b3"
      },
      "outputs": [
        {
          "output_type": "stream",
          "name": "stdout",
          "text": [
            "2\n"
          ]
        }
      ],
      "source": [
        "# write your code here\n",
        "tup = (1,2,3,4,5)\n",
        "index = tup.index(3)\n",
        "print(index)"
      ],
      "id": "lIuu_klOfyVe"
    },
    {
      "cell_type": "markdown",
      "metadata": {
        "id": "qdDgmuL3fyVe"
      },
      "source": [
        "### Tuples Q6\n",
        "\n",
        "**Problem:** Count the occurrences of an element in a tuple.\n",
        "\n",
        "**Expected answer should look like (example):**\n",
        "```\n",
        "count_value\n",
        "```"
      ],
      "id": "qdDgmuL3fyVe"
    },
    {
      "cell_type": "code",
      "execution_count": 105,
      "metadata": {
        "id": "ZKBvIlJzfyVe",
        "colab": {
          "base_uri": "https://localhost:8080/"
        },
        "outputId": "58843c44-3a4a-41ec-a47c-71cfc4e49eea"
      },
      "outputs": [
        {
          "output_type": "stream",
          "name": "stdout",
          "text": [
            "2\n"
          ]
        }
      ],
      "source": [
        "# write your code here\n",
        "tup = (1,2,3,3,4,4,5)\n",
        "count = tup.count(3)\n",
        "print(count)"
      ],
      "id": "ZKBvIlJzfyVe"
    },
    {
      "cell_type": "markdown",
      "metadata": {
        "id": "FphgWkIKfyVe"
      },
      "source": [
        "### Tuples Q7\n",
        "\n",
        "**Problem:** Create a nested tuple and access an element from it.\n",
        "\n",
        "**Expected answer should look like (example):**\n",
        "```\n",
        "nested_value\n",
        "```"
      ],
      "id": "FphgWkIKfyVe"
    },
    {
      "cell_type": "code",
      "execution_count": 106,
      "metadata": {
        "id": "HnvdVBUNfyVe",
        "colab": {
          "base_uri": "https://localhost:8080/"
        },
        "outputId": "2a58f97a-27c8-47ae-99cc-101391d04be5"
      },
      "outputs": [
        {
          "output_type": "stream",
          "name": "stdout",
          "text": [
            "2\n"
          ]
        }
      ],
      "source": [
        "# write your code here\n",
        "tup = ((1,2),(3,4))\n",
        "print(tup[0][1])"
      ],
      "id": "HnvdVBUNfyVe"
    },
    {
      "cell_type": "markdown",
      "metadata": {
        "id": "cJGrrJa3fyVe"
      },
      "source": [
        "### Tuples Q8\n",
        "\n",
        "**Problem:** Check if two tuples are equal.\n",
        "\n",
        "**Expected answer should look like (example):**\n",
        "```\n",
        "True/False\n",
        "```"
      ],
      "id": "cJGrrJa3fyVe"
    },
    {
      "cell_type": "code",
      "execution_count": 107,
      "metadata": {
        "id": "yrtoIoESfyVe",
        "colab": {
          "base_uri": "https://localhost:8080/"
        },
        "outputId": "97e28fd1-35dc-4bf7-ec6d-320c6b16186b"
      },
      "outputs": [
        {
          "output_type": "stream",
          "name": "stdout",
          "text": [
            "True\n"
          ]
        }
      ],
      "source": [
        "# write your code here\n",
        "tup1 = (1,2,3)\n",
        "tup2 = (1,2,3)\n",
        "if tup1 == tup2:\n",
        "  print(True)\n",
        "else:\n",
        "  print(False)"
      ],
      "id": "yrtoIoESfyVe"
    },
    {
      "cell_type": "markdown",
      "metadata": {
        "id": "-LNfyhfEfyVe"
      },
      "source": [
        "### Tuples Q9\n",
        "\n",
        "**Problem:** Convert a list to a tuple.\n",
        "\n",
        "**Expected answer should look like (example):**\n",
        "```\n",
        "tuple(list)\n",
        "```"
      ],
      "id": "-LNfyhfEfyVe"
    },
    {
      "cell_type": "code",
      "execution_count": 108,
      "metadata": {
        "id": "qVjr5RJFfyVe",
        "colab": {
          "base_uri": "https://localhost:8080/"
        },
        "outputId": "ebdb92db-15c4-4df5-88a0-d6aa177dea3f"
      },
      "outputs": [
        {
          "output_type": "stream",
          "name": "stdout",
          "text": [
            "(1, 2, 3, 4, 5)\n"
          ]
        }
      ],
      "source": [
        "# write your code here\n",
        "lst = [1,2,3,4,5]\n",
        "tup = tuple(lst)\n",
        "print(tup)"
      ],
      "id": "qVjr5RJFfyVe"
    },
    {
      "cell_type": "markdown",
      "metadata": {
        "id": "2z6vK3lcfyVe"
      },
      "source": [
        "### Tuples Q10\n",
        "\n",
        "**Problem:** Create a tuple of integers and find its sum.\n",
        "\n",
        "**Expected answer should look like (example):**\n",
        "```\n",
        "sum_value\n",
        "```"
      ],
      "id": "2z6vK3lcfyVe"
    },
    {
      "cell_type": "code",
      "execution_count": 109,
      "metadata": {
        "id": "2wvATIXwfyVe",
        "colab": {
          "base_uri": "https://localhost:8080/"
        },
        "outputId": "fa5ae9a7-0486-4afe-8606-4d994f662000"
      },
      "outputs": [
        {
          "output_type": "stream",
          "name": "stdout",
          "text": [
            "15\n"
          ]
        }
      ],
      "source": [
        "# write your code here\n",
        "tup = (1,2,3,4,5)\n",
        "sum = 0\n",
        "for i in tup:\n",
        "  sum += i\n",
        "print(sum)"
      ],
      "id": "2wvATIXwfyVe"
    },
    {
      "cell_type": "markdown",
      "metadata": {
        "id": "AL5_V1DRfyVe"
      },
      "source": [
        "### Tuples Q11\n",
        "\n",
        "**Problem:** Create a tuple using the `tuple()` constructor.\n",
        "\n",
        "**Expected answer should look like (example):**\n",
        "```\n",
        "tuple_from_iterable\n",
        "```"
      ],
      "id": "AL5_V1DRfyVe"
    },
    {
      "cell_type": "code",
      "execution_count": 110,
      "metadata": {
        "id": "J3H2rnqifyVf",
        "colab": {
          "base_uri": "https://localhost:8080/"
        },
        "outputId": "bb8746dd-9141-4e61-f410-41eb26800b10"
      },
      "outputs": [
        {
          "output_type": "stream",
          "name": "stdout",
          "text": [
            "(1, 2, 3, 4, 5)\n"
          ]
        }
      ],
      "source": [
        "# write your code here\n",
        "lst = [1,2,3,4,5]\n",
        "tup = tuple(lst)\n",
        "print(tup)\n"
      ],
      "id": "J3H2rnqifyVf"
    },
    {
      "cell_type": "markdown",
      "metadata": {
        "id": "UZHJ8sV2fyVf"
      },
      "source": [
        "### Tuples Q12\n",
        "\n",
        "**Problem:** Use a `for` loop to iterate through a tuple.\n",
        "\n",
        "**Expected answer should look like (example):**\n",
        "```\n",
        "elements printed/processed\n",
        "```"
      ],
      "id": "UZHJ8sV2fyVf"
    },
    {
      "cell_type": "code",
      "execution_count": 111,
      "metadata": {
        "id": "hWTzzxbQfyVf",
        "colab": {
          "base_uri": "https://localhost:8080/"
        },
        "outputId": "501dfa09-0eab-4d88-8080-40a7e515eee0"
      },
      "outputs": [
        {
          "output_type": "stream",
          "name": "stdout",
          "text": [
            "1\n",
            "2\n",
            "3\n",
            "4\n",
            "5\n"
          ]
        }
      ],
      "source": [
        "# write your code here\n",
        "tup = (1,2,3,4,5)\n",
        "for i in tup:\n",
        "  print(i)"
      ],
      "id": "hWTzzxbQfyVf"
    },
    {
      "cell_type": "markdown",
      "metadata": {
        "id": "DrMe5TzIfyVf"
      },
      "source": [
        "### Tuples Q13\n",
        "\n",
        "**Problem:** Try modifying a tuple element and handle the error.\n",
        "\n",
        "**Expected answer should look like (example):**\n",
        "```\n",
        "TypeError handled\n",
        "```"
      ],
      "id": "DrMe5TzIfyVf"
    },
    {
      "cell_type": "code",
      "execution_count": 112,
      "metadata": {
        "id": "lKiryIUUfyVf",
        "colab": {
          "base_uri": "https://localhost:8080/",
          "height": 176
        },
        "outputId": "c5009e19-fa05-49d9-904f-1618bebe748d"
      },
      "outputs": [
        {
          "output_type": "error",
          "ename": "TypeError",
          "evalue": "'tuple' object does not support item assignment",
          "traceback": [
            "\u001b[0;31m---------------------------------------------------------------------------\u001b[0m",
            "\u001b[0;31mTypeError\u001b[0m                                 Traceback (most recent call last)",
            "\u001b[0;32m/tmp/ipython-input-1064894563.py\u001b[0m in \u001b[0;36m<cell line: 0>\u001b[0;34m()\u001b[0m\n\u001b[1;32m      1\u001b[0m \u001b[0;31m# write your code here\u001b[0m\u001b[0;34m\u001b[0m\u001b[0;34m\u001b[0m\u001b[0m\n\u001b[1;32m      2\u001b[0m \u001b[0mtup\u001b[0m \u001b[0;34m=\u001b[0m \u001b[0;34m(\u001b[0m\u001b[0;36m1\u001b[0m\u001b[0;34m,\u001b[0m\u001b[0;36m2\u001b[0m\u001b[0;34m,\u001b[0m\u001b[0;36m3\u001b[0m\u001b[0;34m,\u001b[0m\u001b[0;36m4\u001b[0m\u001b[0;34m,\u001b[0m\u001b[0;36m5\u001b[0m\u001b[0;34m)\u001b[0m\u001b[0;34m\u001b[0m\u001b[0;34m\u001b[0m\u001b[0m\n\u001b[0;32m----> 3\u001b[0;31m \u001b[0mtup\u001b[0m\u001b[0;34m[\u001b[0m\u001b[0;36m0\u001b[0m\u001b[0;34m]\u001b[0m \u001b[0;34m=\u001b[0m \u001b[0;36m10\u001b[0m\u001b[0;34m\u001b[0m\u001b[0;34m\u001b[0m\u001b[0m\n\u001b[0m",
            "\u001b[0;31mTypeError\u001b[0m: 'tuple' object does not support item assignment"
          ]
        }
      ],
      "source": [
        "# write your code here\n",
        "tup = (1,2,3,4,5)\n",
        "tup[0] = 10"
      ],
      "id": "lKiryIUUfyVf"
    },
    {
      "cell_type": "markdown",
      "metadata": {
        "id": "YhvKphyXfyVf"
      },
      "source": [
        "### Tuples Q14\n",
        "\n",
        "**Problem:** Unpack a tuple into individual variables.\n",
        "\n",
        "**Expected answer should look like (example):**\n",
        "```\n",
        "a b c ... assigned\n",
        "```"
      ],
      "id": "YhvKphyXfyVf"
    },
    {
      "cell_type": "code",
      "execution_count": null,
      "metadata": {
        "id": "OWtwQmw3fyVf"
      },
      "outputs": [],
      "source": [
        "# write your code here\n",
        "tup = (1,2,3,4,5)\n",
        "a,b,c,d,e = tup\n",
        "print(a,b,c,d,e)"
      ],
      "id": "OWtwQmw3fyVf"
    },
    {
      "cell_type": "markdown",
      "metadata": {
        "id": "MkF0atcFfyVf"
      },
      "source": [
        "### Tuples Q15\n",
        "\n",
        "**Problem:** Use a tuple inside a dictionary as a key.\n",
        "\n",
        "**Expected answer should look like (example):**\n",
        "```\n",
        "{(1,2): 'value'}\n",
        "```"
      ],
      "id": "MkF0atcFfyVf"
    },
    {
      "cell_type": "code",
      "execution_count": null,
      "metadata": {
        "id": "6C4iwP6ZfyVf"
      },
      "outputs": [],
      "source": [
        "# write your code here\n",
        "tup = (1,2)\n",
        "dic = {tup: 'value'}\n",
        "print(dic)"
      ],
      "id": "6C4iwP6ZfyVf"
    },
    {
      "cell_type": "markdown",
      "metadata": {
        "id": "oqBDYfK6fyVf"
      },
      "source": [
        "### Tuples Q16\n",
        "\n",
        "**Problem:** Find the length of a tuple using `len()`.\n",
        "\n",
        "**Expected answer should look like (example):**\n",
        "```\n",
        "length_value\n",
        "```"
      ],
      "id": "oqBDYfK6fyVf"
    },
    {
      "cell_type": "code",
      "execution_count": null,
      "metadata": {
        "id": "fcp9Leg2fyVf"
      },
      "outputs": [],
      "source": [
        "# write your code here\n",
        "tup = (1,2,3,4,5)\n",
        "length = len(tup)\n",
        "print(length)"
      ],
      "id": "fcp9Leg2fyVf"
    },
    {
      "cell_type": "markdown",
      "metadata": {
        "id": "azW0Z5FRfyVf"
      },
      "source": [
        "### Tuples Q17\n",
        "\n",
        "**Problem:** Compare two tuples using relational operators.\n",
        "\n",
        "**Expected answer should look like (example):**\n",
        "```\n",
        "True/False based on lexicographic\n",
        "```"
      ],
      "id": "azW0Z5FRfyVf"
    },
    {
      "cell_type": "code",
      "execution_count": null,
      "metadata": {
        "id": "DxFDZ_FPfyVg"
      },
      "outputs": [],
      "source": [
        "# write your code here\n",
        "tup1 = (1,2,3)\n",
        "tup2 = (1,2,4)\n",
        "if tup1 < tup2:\n",
        "  print(True)\n",
        "else:\n",
        "  print(False)\n"
      ],
      "id": "DxFDZ_FPfyVg"
    },
    {
      "cell_type": "markdown",
      "metadata": {
        "id": "vyvlq4bWfyVg"
      },
      "source": [
        "### Tuples Q18\n",
        "\n",
        "**Problem:** Use `max()` and `min()` with a tuple.\n",
        "\n",
        "**Expected answer should look like (example):**\n",
        "```\n",
        "max_value, min_value\n",
        "```"
      ],
      "id": "vyvlq4bWfyVg"
    },
    {
      "cell_type": "code",
      "execution_count": null,
      "metadata": {
        "id": "62KgdnSAfyVg"
      },
      "outputs": [],
      "source": [
        "# write your code here\n",
        "tup = (1,2,3,4,5)\n",
        "max_value = max(tup)\n",
        "min_value = min(tup)\n",
        "print(max_value, min_value)"
      ],
      "id": "62KgdnSAfyVg"
    },
    {
      "cell_type": "markdown",
      "metadata": {
        "id": "HEENKlfkfyVg"
      },
      "source": [
        "### Tuples Q19\n",
        "\n",
        "**Problem:** Use a tuple inside another tuple and access nested values.\n",
        "\n",
        "**Expected answer should look like (example):**\n",
        "```\n",
        "nested_value\n",
        "```"
      ],
      "id": "HEENKlfkfyVg"
    },
    {
      "cell_type": "code",
      "execution_count": null,
      "metadata": {
        "id": "URl8HuYFfyVg"
      },
      "outputs": [],
      "source": [
        "# write your code here\n",
        "tup = ((1,2),(3,4))\n",
        "print(tup[0][1])"
      ],
      "id": "URl8HuYFfyVg"
    },
    {
      "cell_type": "markdown",
      "metadata": {
        "id": "UzcLW_RPfyVg"
      },
      "source": [
        "### Tuples Q20\n",
        "\n",
        "**Problem:** Check the memory size of a tuple versus a list using `sys.getsizeof()`.\n",
        "\n",
        "**Expected answer should look like (example):**\n",
        "```\n",
        "e.g., tuple_size < list_size (often)\n",
        "```"
      ],
      "id": "UzcLW_RPfyVg"
    },
    {
      "cell_type": "code",
      "execution_count": null,
      "metadata": {
        "id": "3CBhEviofyVg"
      },
      "outputs": [],
      "source": [
        "# write your code here\n",
        "import sys\n",
        "lst = [1,2,3,4,5]\n",
        "tup = (1,2,3,4,5)\n",
        "print(f'tuple_size: {sys.getsizeof(tup)}')"
      ],
      "id": "3CBhEviofyVg"
    },
    {
      "cell_type": "markdown",
      "metadata": {
        "id": "fd4yFydZfyVg"
      },
      "source": [
        "### Sets Q1\n",
        "\n",
        "**Problem:** Create a set with integers from 10 to 15.\n",
        "\n",
        "**Expected answer should look like (example):**\n",
        "```\n",
        "{10, 11, 12, 13, 14, 15} (order may vary)\n",
        "```"
      ],
      "id": "fd4yFydZfyVg"
    },
    {
      "cell_type": "code",
      "execution_count": null,
      "metadata": {
        "id": "5qqGXfs0fyVg"
      },
      "outputs": [],
      "source": [
        "# write your code here\n",
        "s = {10,11,12,13,14,15}\n",
        "print(s)"
      ],
      "id": "5qqGXfs0fyVg"
    },
    {
      "cell_type": "markdown",
      "metadata": {
        "id": "0iSowp2CfyVg"
      },
      "source": [
        "### Sets Q2\n",
        "\n",
        "**Problem:** Add multiple elements to a set using `update()`.\n",
        "\n",
        "**Expected answer should look like (example):**\n",
        "```\n",
        "{...includes new elements...}\n",
        "```"
      ],
      "id": "0iSowp2CfyVg"
    },
    {
      "cell_type": "code",
      "execution_count": null,
      "metadata": {
        "id": "Z-upfIXtfyVg"
      },
      "outputs": [],
      "source": [
        "# write your code here\n",
        "s = {1,2,3,4,5}\n",
        "s.update([6,7,8])\n",
        "print(s)"
      ],
      "id": "Z-upfIXtfyVg"
    },
    {
      "cell_type": "markdown",
      "metadata": {
        "id": "zAaYvSjvfyVg"
      },
      "source": [
        "### Sets Q3\n",
        "\n",
        "**Problem:** Check if a set is a subset of another set.\n",
        "\n",
        "**Expected answer should look like (example):**\n",
        "```\n",
        "True/False\n",
        "```"
      ],
      "id": "zAaYvSjvfyVg"
    },
    {
      "cell_type": "code",
      "execution_count": null,
      "metadata": {
        "id": "XNQuqIzUfyVg"
      },
      "outputs": [],
      "source": [
        "# write your code here\n",
        "set1 = {1,2,3,4,5}\n",
        "set2 = {1,2,3}\n",
        "if set2.issubset(set1):\n",
        "  print(True)\n",
        "else:\n",
        "  print(False)"
      ],
      "id": "XNQuqIzUfyVg"
    },
    {
      "cell_type": "markdown",
      "metadata": {
        "id": "c0GUHapUfyVg"
      },
      "source": [
        "### Sets Q4\n",
        "\n",
        "**Problem:** Check if a set is a superset of another set.\n",
        "\n",
        "**Expected answer should look like (example):**\n",
        "```\n",
        "True/False\n",
        "```"
      ],
      "id": "c0GUHapUfyVg"
    },
    {
      "cell_type": "code",
      "execution_count": null,
      "metadata": {
        "id": "OUKyM0_ufyVg"
      },
      "outputs": [],
      "source": [
        "# write your code here\n",
        "set1 = {1,2,3,4,5}\n",
        "set2 = {1,2,3}\n",
        "if set1.issuperset(set2):\n",
        "  print(True)\n",
        "else:\n",
        "  print(False)"
      ],
      "id": "OUKyM0_ufyVg"
    },
    {
      "cell_type": "markdown",
      "metadata": {
        "id": "53FrXj6NfyVh"
      },
      "source": [
        "### Sets Q5\n",
        "\n",
        "**Problem:** Find the difference between two sets.\n",
        "\n",
        "**Expected answer should look like (example):**\n",
        "```\n",
        "A - B set\n",
        "```"
      ],
      "id": "53FrXj6NfyVh"
    },
    {
      "cell_type": "code",
      "execution_count": null,
      "metadata": {
        "id": "SbID0wZ3fyVh"
      },
      "outputs": [],
      "source": [
        "# write your code here\n",
        "set1 = {1,2,3,4,5}\n",
        "set2 = {1,2,3}\n",
        "print(set1 - set2)"
      ],
      "id": "SbID0wZ3fyVh"
    },
    {
      "cell_type": "markdown",
      "metadata": {
        "id": "iC-Pvc3TfyVh"
      },
      "source": [
        "### Sets Q6\n",
        "\n",
        "**Problem:** Create a set of multiples of 3 from 1 to 15.\n",
        "\n",
        "**Expected answer should look like (example):**\n",
        "```\n",
        "{3, 6, 9, 12, 15}\n",
        "```"
      ],
      "id": "iC-Pvc3TfyVh"
    },
    {
      "cell_type": "code",
      "execution_count": null,
      "metadata": {
        "id": "mgIRy9RvfyVh"
      },
      "outputs": [],
      "source": [
        "# write your code here\n",
        "my_set = set()\n",
        "for i in range(1,16):\n",
        "  if i % 3 == 0:\n",
        "    my_set.add(i)\n",
        "print(my_set)"
      ],
      "id": "mgIRy9RvfyVh"
    },
    {
      "cell_type": "markdown",
      "metadata": {
        "id": "SwBOILWZfyVh"
      },
      "source": [
        "### Sets Q7\n",
        "\n",
        "**Problem:** Remove an element from a set using `discard()`.\n",
        "\n",
        "**Expected answer should look like (example):**\n",
        "```\n",
        "set without that element (no error if missing)\n",
        "```"
      ],
      "id": "SwBOILWZfyVh"
    },
    {
      "cell_type": "code",
      "execution_count": null,
      "metadata": {
        "id": "vHtkwEOgfyVh"
      },
      "outputs": [],
      "source": [
        "# write your code here\n",
        "set1 = {1,2,3,4,5}\n",
        "set.discard(3)\n",
        "print(set)"
      ],
      "id": "vHtkwEOgfyVh"
    },
    {
      "cell_type": "markdown",
      "metadata": {
        "id": "0bIs5h7KfyVh"
      },
      "source": [
        "### Sets Q8\n",
        "\n",
        "**Problem:** Check if a set is empty.\n",
        "\n",
        "**Expected answer should look like (example):**\n",
        "```\n",
        "True/False\n",
        "```"
      ],
      "id": "0bIs5h7KfyVh"
    },
    {
      "cell_type": "code",
      "execution_count": null,
      "metadata": {
        "id": "ilBpbKVIfyVh"
      },
      "outputs": [],
      "source": [
        "# write your code here\n",
        "set1 = {1,2,3,4,5}\n",
        "if len(set) == 0:\n",
        "  print(True)\n",
        "else:\n",
        "  print(False)"
      ],
      "id": "ilBpbKVIfyVh"
    },
    {
      "cell_type": "markdown",
      "metadata": {
        "id": "Ob4hYWQGfyVh"
      },
      "source": [
        "### Sets Q9\n",
        "\n",
        "**Problem:** Find the maximum element in a set.\n",
        "\n",
        "**Expected answer should look like (example):**\n",
        "```\n",
        "max_value\n",
        "```"
      ],
      "id": "Ob4hYWQGfyVh"
    },
    {
      "cell_type": "code",
      "execution_count": null,
      "metadata": {
        "id": "b4bHmMIyfyVh"
      },
      "outputs": [],
      "source": [
        "# write your code here\n",
        "set1 = {1,2,3,4,5}\n",
        "max_value = max(set1)\n",
        "print(max_value)"
      ],
      "id": "b4bHmMIyfyVh"
    },
    {
      "cell_type": "markdown",
      "metadata": {
        "id": "RHn1Kk-ufyVh"
      },
      "source": [
        "### Sets Q10\n",
        "\n",
        "**Problem:** Find the minimum element in a set.\n",
        "\n",
        "**Expected answer should look like (example):**\n",
        "```\n",
        "min_value\n",
        "```"
      ],
      "id": "RHn1Kk-ufyVh"
    },
    {
      "cell_type": "code",
      "execution_count": null,
      "metadata": {
        "id": "ePKcbSaafyVh"
      },
      "outputs": [],
      "source": [
        "# write your code here\n",
        "set1 = {1,2,3,4,5}\n",
        "min_value = min(set1)\n",
        "print(min_value)"
      ],
      "id": "ePKcbSaafyVh"
    },
    {
      "cell_type": "markdown",
      "metadata": {
        "id": "AzYVe4E2fyVh"
      },
      "source": [
        "### Sets Q11\n",
        "\n",
        "**Problem:** Create a frozen set with elements 'a', 'b', and 'c'.\n",
        "\n",
        "**Expected answer should look like (example):**\n",
        "```\n",
        "frozenset({'a','b','c'})\n",
        "```"
      ],
      "id": "AzYVe4E2fyVh"
    },
    {
      "cell_type": "code",
      "execution_count": null,
      "metadata": {
        "id": "AhMpp5WdfyVh"
      },
      "outputs": [],
      "source": [
        "# write your code here\n",
        "set = {'a','b','c'}\n",
        "frozen_set = frozenset(set)\n",
        "print(frozen_set)"
      ],
      "id": "AhMpp5WdfyVh"
    },
    {
      "cell_type": "markdown",
      "metadata": {
        "id": "b7SIy4MWfyVh"
      },
      "source": [
        "### Sets Q12\n",
        "\n",
        "**Problem:** Check if a frozen set is immutable by attempting to add an element.\n",
        "\n",
        "**Expected answer should look like (example):**\n",
        "```\n",
        "AttributeError shown/handled\n",
        "```"
      ],
      "id": "b7SIy4MWfyVh"
    },
    {
      "cell_type": "code",
      "execution_count": null,
      "metadata": {
        "id": "kaW8KcrnfyVi"
      },
      "outputs": [],
      "source": [
        "# write your code here\n",
        "set1 = {'a','b','c'}\n",
        "frozen_set = frozenset(set1)\n",
        "frozen_set.add('d')"
      ],
      "id": "kaW8KcrnfyVi"
    },
    {
      "cell_type": "markdown",
      "metadata": {
        "id": "u4PGg21HfyVi"
      },
      "source": [
        "### Sets Q13\n",
        "\n",
        "**Problem:** Find the union of a frozen set with a regular set.\n",
        "\n",
        "**Expected answer should look like (example):**\n",
        "```\n",
        "combined set\n",
        "```"
      ],
      "id": "u4PGg21HfyVi"
    },
    {
      "cell_type": "code",
      "execution_count": 113,
      "metadata": {
        "id": "CFjOTXsAfyVi",
        "colab": {
          "base_uri": "https://localhost:8080/"
        },
        "outputId": "d9e6aca2-8442-47d0-b07d-e1bb07bded21"
      },
      "outputs": [
        {
          "output_type": "stream",
          "name": "stdout",
          "text": [
            "frozenset({'c', 'f', 'e', 'a', 'd', 'b'})\n"
          ]
        }
      ],
      "source": [
        "# write your code here\n",
        "set1 = {'a','b','c'}\n",
        "set2 = {'d','e','f'}\n",
        "frozen_set = frozenset(set1)\n",
        "combined_set = frozen_set.union(set2)\n",
        "print(combined_set)"
      ],
      "id": "CFjOTXsAfyVi"
    },
    {
      "cell_type": "markdown",
      "metadata": {
        "id": "l1AxUrgbfyVi"
      },
      "source": [
        "### Sets Q14\n",
        "\n",
        "**Problem:** Convert a list with duplicate elements into a set to remove duplicates.\n",
        "\n",
        "**Expected answer should look like (example):**\n",
        "```\n",
        "{unique_elements}\n",
        "```"
      ],
      "id": "l1AxUrgbfyVi"
    },
    {
      "cell_type": "code",
      "execution_count": 114,
      "metadata": {
        "id": "uGYqDg-EfyVi",
        "colab": {
          "base_uri": "https://localhost:8080/",
          "height": 193
        },
        "outputId": "3f06243b-4953-4879-d56f-bbff6b1c7829"
      },
      "outputs": [
        {
          "output_type": "error",
          "ename": "TypeError",
          "evalue": "'set' object is not callable",
          "traceback": [
            "\u001b[0;31m---------------------------------------------------------------------------\u001b[0m",
            "\u001b[0;31mTypeError\u001b[0m                                 Traceback (most recent call last)",
            "\u001b[0;32m/tmp/ipython-input-2832088634.py\u001b[0m in \u001b[0;36m<cell line: 0>\u001b[0;34m()\u001b[0m\n\u001b[1;32m      1\u001b[0m \u001b[0;31m# write your code here\u001b[0m\u001b[0;34m\u001b[0m\u001b[0;34m\u001b[0m\u001b[0m\n\u001b[1;32m      2\u001b[0m \u001b[0mnumbers\u001b[0m \u001b[0;34m=\u001b[0m \u001b[0;34m[\u001b[0m\u001b[0;36m10\u001b[0m\u001b[0;34m,\u001b[0m \u001b[0;36m20\u001b[0m\u001b[0;34m,\u001b[0m \u001b[0;36m10\u001b[0m\u001b[0;34m,\u001b[0m \u001b[0;36m30\u001b[0m\u001b[0;34m,\u001b[0m \u001b[0;36m20\u001b[0m\u001b[0;34m,\u001b[0m \u001b[0;36m40\u001b[0m\u001b[0;34m,\u001b[0m \u001b[0;36m30\u001b[0m\u001b[0;34m]\u001b[0m\u001b[0;34m\u001b[0m\u001b[0;34m\u001b[0m\u001b[0m\n\u001b[0;32m----> 3\u001b[0;31m \u001b[0munique_numbers\u001b[0m \u001b[0;34m=\u001b[0m \u001b[0mset\u001b[0m\u001b[0;34m(\u001b[0m\u001b[0mnumbers\u001b[0m\u001b[0;34m)\u001b[0m\u001b[0;34m\u001b[0m\u001b[0;34m\u001b[0m\u001b[0m\n\u001b[0m\u001b[1;32m      4\u001b[0m \u001b[0mprint\u001b[0m\u001b[0;34m(\u001b[0m\u001b[0munique_numbers\u001b[0m\u001b[0;34m)\u001b[0m\u001b[0;34m\u001b[0m\u001b[0;34m\u001b[0m\u001b[0m\n",
            "\u001b[0;31mTypeError\u001b[0m: 'set' object is not callable"
          ]
        }
      ],
      "source": [
        "# write your code here\n",
        "numbers = [10, 20, 10, 30, 20, 40, 30]\n",
        "unique_numbers = set(numbers)\n",
        "print(unique_numbers)\n"
      ],
      "id": "uGYqDg-EfyVi"
    },
    {
      "cell_type": "markdown",
      "metadata": {
        "id": "LNVwzH2dfyVi"
      },
      "source": [
        "### Sets Q15\n",
        "\n",
        "**Problem:** Create a set comprehension to generate squares of numbers from 1 to 5.\n",
        "\n",
        "**Expected answer should look like (example):**\n",
        "```\n",
        "{1,4,9,16,25}\n",
        "```"
      ],
      "id": "LNVwzH2dfyVi"
    },
    {
      "cell_type": "code",
      "execution_count": null,
      "metadata": {
        "id": "ZL075CBkfyVi"
      },
      "outputs": [],
      "source": [
        "# write your code here\n",
        "set = {i**2 for i in range(1,6)}\n",
        "print(set)"
      ],
      "id": "ZL075CBkfyVi"
    },
    {
      "cell_type": "markdown",
      "metadata": {
        "id": "D0DqSpwUfyVi"
      },
      "source": [
        "### Sets Q16\n",
        "\n",
        "**Problem:** Use the `intersection()` method on two sets.\n",
        "\n",
        "**Expected answer should look like (example):**\n",
        "```\n",
        "A ∩ B\n",
        "```"
      ],
      "id": "D0DqSpwUfyVi"
    },
    {
      "cell_type": "code",
      "execution_count": null,
      "metadata": {
        "id": "CSbQd9H8fyVi"
      },
      "outputs": [],
      "source": [
        "# write your code here\n",
        "set1 = {1,2,3,4,5}\n",
        "set2 = {1,2,3}\n",
        "print(set1.intersection(set2))"
      ],
      "id": "CSbQd9H8fyVi"
    },
    {
      "cell_type": "markdown",
      "metadata": {
        "id": "q2Zf6kwEfyVi"
      },
      "source": [
        "### Sets Q17\n",
        "\n",
        "**Problem:** Use `symmetric_difference()` between two sets.\n",
        "\n",
        "**Expected answer should look like (example):**\n",
        "```\n",
        "(A Δ B) set\n",
        "```"
      ],
      "id": "q2Zf6kwEfyVi"
    },
    {
      "cell_type": "code",
      "execution_count": null,
      "metadata": {
        "id": "JJOjcx6MfyVi"
      },
      "outputs": [],
      "source": [
        "# write your code here\n",
        "set1 = {1,2,3,4,5}\n",
        "set2 = {1,2,3}\n",
        "print(set1.symmetric_difference(set2))\n"
      ],
      "id": "JJOjcx6MfyVi"
    },
    {
      "cell_type": "markdown",
      "metadata": {
        "id": "iyPjq03kfyVj"
      },
      "source": [
        "### Sets Q18\n",
        "\n",
        "**Problem:** Iterate over elements of a set using a loop.\n",
        "\n",
        "**Expected answer should look like (example):**\n",
        "```\n",
        "elements printed (order arbitrary)\n",
        "```"
      ],
      "id": "iyPjq03kfyVj"
    },
    {
      "cell_type": "code",
      "execution_count": null,
      "metadata": {
        "id": "kchujqXKfyVj"
      },
      "outputs": [],
      "source": [
        "# write your code\n",
        "set = {1,2,3,4,5}\n",
        "for i in set:\n",
        "  print(i)"
      ],
      "id": "kchujqXKfyVj"
    },
    {
      "cell_type": "markdown",
      "metadata": {
        "id": "hxzkafUefyVj"
      },
      "source": [
        "### Sets Q19\n",
        "\n",
        "**Problem:** Count elements in a set using `len()`.\n",
        "\n",
        "**Expected answer should look like (example):**\n",
        "```\n",
        "integer_count\n",
        "```"
      ],
      "id": "hxzkafUefyVj"
    },
    {
      "cell_type": "code",
      "execution_count": 115,
      "metadata": {
        "id": "M5lUlSKUfyVj",
        "colab": {
          "base_uri": "https://localhost:8080/"
        },
        "outputId": "09cc8a39-37f7-4446-f0fa-3c3ea08c266c"
      },
      "outputs": [
        {
          "output_type": "stream",
          "name": "stdout",
          "text": [
            "5\n"
          ]
        }
      ],
      "source": [
        "# write your code here\n",
        "set = {1,2,3,4,5}\n",
        "print(len(set))"
      ],
      "id": "M5lUlSKUfyVj"
    },
    {
      "cell_type": "markdown",
      "metadata": {
        "id": "60brTOPlfyVj"
      },
      "source": [
        "### Sets Q20\n",
        "\n",
        "**Problem:** Copy a set using `copy()` and verify it is separate.\n",
        "\n",
        "**Expected answer should look like (example):**\n",
        "```\n",
        "True when A is B is False; mutation doesn't affect copy\n",
        "```"
      ],
      "id": "60brTOPlfyVj"
    },
    {
      "cell_type": "code",
      "execution_count": 116,
      "metadata": {
        "id": "_9s80IdsfyVj",
        "colab": {
          "base_uri": "https://localhost:8080/"
        },
        "outputId": "a7ba07d7-d252-4398-cb7e-69cc619abbad"
      },
      "outputs": [
        {
          "output_type": "stream",
          "name": "stdout",
          "text": [
            "False\n"
          ]
        }
      ],
      "source": [
        "# write your code here\n",
        "set1 = {1,2,3,4,5}\n",
        "set2 = set1.copy()\n",
        "print(set1 is set2)"
      ],
      "id": "_9s80IdsfyVj"
    },
    {
      "cell_type": "markdown",
      "metadata": {
        "id": "SpYizfRbfyVl"
      },
      "source": [
        "## Submission Note\n",
        "\n",
        "Dear student, kindly save this file on your computer and fill the assignment form that is there in your WhatsApp group to submit this assignment."
      ],
      "id": "SpYizfRbfyVl"
    }
  ],
  "metadata": {
    "kernelspec": {
      "display_name": "Python 3",
      "language": "python",
      "name": "python3"
    },
    "language_info": {
      "codemirror_mode": {
        "name": "ipython",
        "version": 3
      },
      "file_extension": ".py",
      "mimetype": "text/x-python",
      "name": "python",
      "nbconvert_exporter": "python",
      "pygments_lexer": "ipython3",
      "version": "3.11.8"
    },
    "colab": {
      "provenance": []
    }
  },
  "nbformat": 4,
  "nbformat_minor": 5
}